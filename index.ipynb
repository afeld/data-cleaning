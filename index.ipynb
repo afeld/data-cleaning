{
 "cells": [
  {
   "cell_type": "markdown",
   "metadata": {},
   "source": [
    "# Binder with Postgres server\n",
    "\n",
    "This binder is running a postgres server in the background."
   ]
  },
  {
   "cell_type": "code",
   "execution_count": 1,
   "metadata": {},
   "outputs": [],
   "source": [
    "%load_ext sql"
   ]
  },
  {
   "cell_type": "code",
   "execution_count": 2,
   "metadata": {},
   "outputs": [
    {
     "data": {
      "text/plain": [
       "'Connected: @postgres'"
      ]
     },
     "execution_count": 2,
     "metadata": {},
     "output_type": "execute_result"
    }
   ],
   "source": [
    "%sql postgresql://localhost/postgres"
   ]
  },
  {
   "cell_type": "code",
   "execution_count": 3,
   "metadata": {},
   "outputs": [
    {
     "name": "stdout",
     "output_type": "stream",
     "text": [
      " * postgresql://localhost/postgres\n",
      "7 rows affected.\n"
     ]
    },
    {
     "data": {
      "text/html": [
       "<table>\n",
       "    <tr>\n",
       "        <th>Schema</th>\n",
       "        <th>Name</th>\n",
       "        <th>Type</th>\n",
       "        <th>Owner</th>\n",
       "    </tr>\n",
       "    <tr>\n",
       "        <td>public</td>\n",
       "        <td>actor</td>\n",
       "        <td>table</td>\n",
       "        <td>tombaldwin</td>\n",
       "    </tr>\n",
       "    <tr>\n",
       "        <td>public</td>\n",
       "        <td>category</td>\n",
       "        <td>table</td>\n",
       "        <td>tombaldwin</td>\n",
       "    </tr>\n",
       "    <tr>\n",
       "        <td>public</td>\n",
       "        <td>film_actor</td>\n",
       "        <td>table</td>\n",
       "        <td>tombaldwin</td>\n",
       "    </tr>\n",
       "    <tr>\n",
       "        <td>public</td>\n",
       "        <td>film_category</td>\n",
       "        <td>table</td>\n",
       "        <td>tombaldwin</td>\n",
       "    </tr>\n",
       "    <tr>\n",
       "        <td>public</td>\n",
       "        <td>films</td>\n",
       "        <td>table</td>\n",
       "        <td>tombaldwin</td>\n",
       "    </tr>\n",
       "    <tr>\n",
       "        <td>public</td>\n",
       "        <td>language</td>\n",
       "        <td>table</td>\n",
       "        <td>tombaldwin</td>\n",
       "    </tr>\n",
       "    <tr>\n",
       "        <td>public</td>\n",
       "        <td>rental</td>\n",
       "        <td>table</td>\n",
       "        <td>tombaldwin</td>\n",
       "    </tr>\n",
       "</table>"
      ],
      "text/plain": [
       "[('public', 'actor', 'table', 'tombaldwin'),\n",
       " ('public', 'category', 'table', 'tombaldwin'),\n",
       " ('public', 'film_actor', 'table', 'tombaldwin'),\n",
       " ('public', 'film_category', 'table', 'tombaldwin'),\n",
       " ('public', 'films', 'table', 'tombaldwin'),\n",
       " ('public', 'language', 'table', 'tombaldwin'),\n",
       " ('public', 'rental', 'table', 'tombaldwin')]"
      ]
     },
     "execution_count": 3,
     "metadata": {},
     "output_type": "execute_result"
    }
   ],
   "source": [
    "%%sql\n",
    "\\dt"
   ]
  },
  {
   "cell_type": "code",
   "execution_count": 4,
   "metadata": {},
   "outputs": [
    {
     "name": "stdout",
     "output_type": "stream",
     "text": [
      " * postgresql://localhost/postgres\n",
      "5 rows affected.\n"
     ]
    },
    {
     "data": {
      "text/html": [
       "<table>\n",
       "    <tr>\n",
       "        <th>actor_id</th>\n",
       "        <th>first_name</th>\n",
       "        <th>last_name</th>\n",
       "        <th>last_update</th>\n",
       "    </tr>\n",
       "    <tr>\n",
       "        <td>1</td>\n",
       "        <td>Penelope</td>\n",
       "        <td>Guiness</td>\n",
       "        <td>2006-02-15 10:05:00</td>\n",
       "    </tr>\n",
       "    <tr>\n",
       "        <td>2</td>\n",
       "        <td>Nick</td>\n",
       "        <td>Wahlberg</td>\n",
       "        <td>2006-02-15 10:05:00</td>\n",
       "    </tr>\n",
       "    <tr>\n",
       "        <td>3</td>\n",
       "        <td>Ed</td>\n",
       "        <td>Chase</td>\n",
       "        <td>2006-02-15 10:05:00</td>\n",
       "    </tr>\n",
       "    <tr>\n",
       "        <td>4</td>\n",
       "        <td>Jennifer</td>\n",
       "        <td>Davis</td>\n",
       "        <td>2006-02-15 10:05:00</td>\n",
       "    </tr>\n",
       "    <tr>\n",
       "        <td>5</td>\n",
       "        <td>Johnny</td>\n",
       "        <td>Lollobrigida</td>\n",
       "        <td>2006-02-15 10:05:00</td>\n",
       "    </tr>\n",
       "</table>"
      ],
      "text/plain": [
       "[(1, 'Penelope', 'Guiness', datetime.datetime(2006, 2, 15, 10, 5)),\n",
       " (2, 'Nick', 'Wahlberg', datetime.datetime(2006, 2, 15, 10, 5)),\n",
       " (3, 'Ed', 'Chase', datetime.datetime(2006, 2, 15, 10, 5)),\n",
       " (4, 'Jennifer', 'Davis', datetime.datetime(2006, 2, 15, 10, 5)),\n",
       " (5, 'Johnny', 'Lollobrigida', datetime.datetime(2006, 2, 15, 10, 5))]"
      ]
     },
     "execution_count": 4,
     "metadata": {},
     "output_type": "execute_result"
    }
   ],
   "source": [
    "%%sql\n",
    "select * from actor limit 5;"
   ]
  }
 ],
 "metadata": {
  "kernelspec": {
   "display_name": "Python 3",
   "language": "python",
   "name": "python3"
  },
  "language_info": {
   "codemirror_mode": {
    "name": "ipython",
    "version": 3
   },
   "file_extension": ".py",
   "mimetype": "text/x-python",
   "name": "python",
   "nbconvert_exporter": "python",
   "pygments_lexer": "ipython3",
   "version": "3.7.3"
  }
 },
 "nbformat": 4,
 "nbformat_minor": 2
}
