{
 "cells": [
  {
   "cell_type": "markdown",
   "metadata": {},
   "source": [
    "# Data cleaning in SQL\n",
    "\n",
    "General notes:\n",
    "\n",
    "- To execute SQL commands, prefix with `%sql`. For multiple lines, use `%%sql` and then a newline."
   ]
  },
  {
   "cell_type": "markdown",
   "metadata": {},
   "source": [
    "## Environment setup\n",
    "\n",
    "We'll be using [ipython-sql](https://github.com/catherinedevlin/ipython-sql) to work with SQL directly within a notebook."
   ]
  },
  {
   "cell_type": "code",
   "execution_count": 1,
   "metadata": {},
   "outputs": [],
   "source": [
    "%load_ext sql"
   ]
  },
  {
   "cell_type": "code",
   "execution_count": 2,
   "metadata": {},
   "outputs": [],
   "source": [
    "%sql postgresql://postgres:postgres@db/cleaning"
   ]
  },
  {
   "cell_type": "markdown",
   "metadata": {},
   "source": [
    "Start from a clean slate:"
   ]
  },
  {
   "cell_type": "code",
   "execution_count": 3,
   "metadata": {},
   "outputs": [
    {
     "name": "stdout",
     "output_type": "stream",
     "text": [
      " * postgresql://postgres:***@db/cleaning\n",
      "Done.\n"
     ]
    },
    {
     "data": {
      "text/plain": [
       "[]"
      ]
     },
     "execution_count": 3,
     "metadata": {},
     "output_type": "execute_result"
    }
   ],
   "source": [
    "%sql DROP TABLE IF EXISTS requests;"
   ]
  },
  {
   "cell_type": "markdown",
   "metadata": {},
   "source": [
    "### Load data\n",
    "\n",
    "We're taking data from the CSV and putting it in an in-memory [SQLite](https://sqlite.org/index.html) database via [pandas](https://pandas.pydata.org/)."
   ]
  },
  {
   "cell_type": "code",
   "execution_count": 4,
   "metadata": {},
   "outputs": [
    {
     "name": "stderr",
     "output_type": "stream",
     "text": [
      "/tmp/ipykernel_5032/3533904743.py:15: FutureWarning: The default value of regex will change from True to False in a future version.\n",
      "  requests.columns = requests.columns.str.replace(\" \", \"_\").str.replace(r\"\\W\", \"\").str.lower()\n"
     ]
    }
   ],
   "source": [
    "import pandas as pd\n",
    "\n",
    "# use a subset of columns, for simplicity\n",
    "columns = [\n",
    "    \"Unique Key\",\n",
    "    \"Created Date\",\n",
    "    \"Closed Date\",\n",
    "    \"Agency\",\n",
    "    \"Latitude\",\n",
    "    \"Longitude\"\n",
    "]\n",
    "requests = pd.read_csv(\"311_jan_2022.csv\", index_col=\"Unique Key\", usecols=columns)\n",
    "# simplify column names\n",
    "requests.index = requests.index.rename(\"unique_key\")\n",
    "requests.columns = requests.columns.str.replace(\" \", \"_\").str.replace(r\"\\W\", \"\").str.lower()"
   ]
  },
  {
   "cell_type": "code",
   "execution_count": 5,
   "metadata": {},
   "outputs": [
    {
     "name": "stdout",
     "output_type": "stream",
     "text": [
      " * postgresql://postgres:***@db/cleaning\n"
     ]
    },
    {
     "data": {
      "text/plain": [
       "'Persisted requests'"
      ]
     },
     "execution_count": 5,
     "metadata": {},
     "output_type": "execute_result"
    }
   ],
   "source": [
    "%sql --persist requests"
   ]
  },
  {
   "cell_type": "markdown",
   "metadata": {},
   "source": [
    "#### Ensure records were loaded"
   ]
  },
  {
   "cell_type": "code",
   "execution_count": 6,
   "metadata": {},
   "outputs": [
    {
     "name": "stdout",
     "output_type": "stream",
     "text": [
      " * postgresql://postgres:***@db/cleaning\n",
      "3 rows affected.\n"
     ]
    },
    {
     "data": {
      "text/html": [
       "<table>\n",
       "    <tr>\n",
       "        <th>unique_key</th>\n",
       "        <th>created_date</th>\n",
       "        <th>closed_date</th>\n",
       "        <th>agency</th>\n",
       "        <th>latitude</th>\n",
       "        <th>longitude</th>\n",
       "    </tr>\n",
       "    <tr>\n",
       "        <td>52940375</td>\n",
       "        <td>01/01/2022 12:00:00 AM</td>\n",
       "        <td>01/03/2022 08:39:00 AM</td>\n",
       "        <td>DEP</td>\n",
       "        <td>40.75666417742652</td>\n",
       "        <td>-73.99019293432467</td>\n",
       "    </tr>\n",
       "    <tr>\n",
       "        <td>52934953</td>\n",
       "        <td>01/01/2022 12:00:10 AM</td>\n",
       "        <td>01/01/2022 01:00:11 AM</td>\n",
       "        <td>NYPD</td>\n",
       "        <td>40.72314288436064</td>\n",
       "        <td>-73.94366208445774</td>\n",
       "    </tr>\n",
       "    <tr>\n",
       "        <td>52933158</td>\n",
       "        <td>01/01/2022 12:00:57 AM</td>\n",
       "        <td>01/01/2022 12:58:22 AM</td>\n",
       "        <td>NYPD</td>\n",
       "        <td>40.59747269272421</td>\n",
       "        <td>-73.98885877127528</td>\n",
       "    </tr>\n",
       "</table>"
      ],
      "text/plain": [
       "[(52940375, '01/01/2022 12:00:00 AM', '01/03/2022 08:39:00 AM', 'DEP', 40.75666417742652, -73.99019293432467),\n",
       " (52934953, '01/01/2022 12:00:10 AM', '01/01/2022 01:00:11 AM', 'NYPD', 40.72314288436064, -73.94366208445774),\n",
       " (52933158, '01/01/2022 12:00:57 AM', '01/01/2022 12:58:22 AM', 'NYPD', 40.59747269272421, -73.98885877127528)]"
      ]
     },
     "execution_count": 6,
     "metadata": {},
     "output_type": "execute_result"
    }
   ],
   "source": [
    "%sql SELECT * FROM requests LIMIT 3;"
   ]
  },
  {
   "cell_type": "markdown",
   "metadata": {},
   "source": [
    "#### [Display the schema](https://www.postgresql.org/docs/current/app-psql.html#APP-PSQL-META-COMMANDS)"
   ]
  },
  {
   "cell_type": "code",
   "execution_count": 7,
   "metadata": {},
   "outputs": [
    {
     "name": "stdout",
     "output_type": "stream",
     "text": [
      " * postgresql://postgres:***@db/cleaning\n",
      "6 rows affected.\n"
     ]
    },
    {
     "data": {
      "text/html": [
       "<table>\n",
       "    <tr>\n",
       "        <th>Column</th>\n",
       "        <th>Type</th>\n",
       "        <th>Modifiers</th>\n",
       "    </tr>\n",
       "    <tr>\n",
       "        <td>unique_key</td>\n",
       "        <td>bigint</td>\n",
       "        <td></td>\n",
       "    </tr>\n",
       "    <tr>\n",
       "        <td>created_date</td>\n",
       "        <td>text</td>\n",
       "        <td></td>\n",
       "    </tr>\n",
       "    <tr>\n",
       "        <td>closed_date</td>\n",
       "        <td>text</td>\n",
       "        <td></td>\n",
       "    </tr>\n",
       "    <tr>\n",
       "        <td>agency</td>\n",
       "        <td>text</td>\n",
       "        <td></td>\n",
       "    </tr>\n",
       "    <tr>\n",
       "        <td>latitude</td>\n",
       "        <td>double precision</td>\n",
       "        <td></td>\n",
       "    </tr>\n",
       "    <tr>\n",
       "        <td>longitude</td>\n",
       "        <td>double precision</td>\n",
       "        <td></td>\n",
       "    </tr>\n",
       "</table>"
      ],
      "text/plain": [
       "[['unique_key', 'bigint', ''],\n",
       " ['created_date', 'text', ''],\n",
       " ['closed_date', 'text', ''],\n",
       " ['agency', 'text', ''],\n",
       " ['latitude', 'double precision', ''],\n",
       " ['longitude', 'double precision', '']]"
      ]
     },
     "execution_count": 7,
     "metadata": {},
     "output_type": "execute_result"
    }
   ],
   "source": [
    "%sql \\d requests"
   ]
  },
  {
   "cell_type": "markdown",
   "metadata": {},
   "source": [
    "## Exploration\n",
    "\n",
    "### Counts per unique value"
   ]
  },
  {
   "cell_type": "code",
   "execution_count": 8,
   "metadata": {},
   "outputs": [
    {
     "name": "stdout",
     "output_type": "stream",
     "text": [
      " * postgresql://postgres:***@db/cleaning\n",
      "16 rows affected.\n"
     ]
    },
    {
     "data": {
      "text/html": [
       "<table>\n",
       "    <tr>\n",
       "        <th>agency</th>\n",
       "        <th>count</th>\n",
       "    </tr>\n",
       "    <tr>\n",
       "        <td>MAYORâS OFFICE OF SPECIAL ENFORCEMENT</td>\n",
       "        <td>37</td>\n",
       "    </tr>\n",
       "    <tr>\n",
       "        <td>DOITT</td>\n",
       "        <td>1</td>\n",
       "    </tr>\n",
       "    <tr>\n",
       "        <td>DPR</td>\n",
       "        <td>794</td>\n",
       "    </tr>\n",
       "    <tr>\n",
       "        <td>HPD</td>\n",
       "        <td>12671</td>\n",
       "    </tr>\n",
       "    <tr>\n",
       "        <td>DOB</td>\n",
       "        <td>1233</td>\n",
       "    </tr>\n",
       "    <tr>\n",
       "        <td>NYPD</td>\n",
       "        <td>18254</td>\n",
       "    </tr>\n",
       "    <tr>\n",
       "        <td>DOHMH</td>\n",
       "        <td>1713</td>\n",
       "    </tr>\n",
       "    <tr>\n",
       "        <td>DCA</td>\n",
       "        <td>298</td>\n",
       "    </tr>\n",
       "    <tr>\n",
       "        <td>DSNY</td>\n",
       "        <td>3975</td>\n",
       "    </tr>\n",
       "    <tr>\n",
       "        <td>TLC</td>\n",
       "        <td>318</td>\n",
       "    </tr>\n",
       "    <tr>\n",
       "        <td>DEP</td>\n",
       "        <td>2262</td>\n",
       "    </tr>\n",
       "    <tr>\n",
       "        <td>EDC</td>\n",
       "        <td>356</td>\n",
       "    </tr>\n",
       "    <tr>\n",
       "        <td>DOT</td>\n",
       "        <td>3407</td>\n",
       "    </tr>\n",
       "    <tr>\n",
       "        <td>DHS</td>\n",
       "        <td>501</td>\n",
       "    </tr>\n",
       "    <tr>\n",
       "        <td>DFTA</td>\n",
       "        <td>8</td>\n",
       "    </tr>\n",
       "    <tr>\n",
       "        <td>DOE</td>\n",
       "        <td>35</td>\n",
       "    </tr>\n",
       "</table>"
      ],
      "text/plain": [
       "[('MAYORâ\\x80\\x99S OFFICE OF SPECIAL ENFORCEMENT', 37),\n",
       " ('DOITT', 1),\n",
       " ('DPR', 794),\n",
       " ('HPD', 12671),\n",
       " ('DOB', 1233),\n",
       " ('NYPD', 18254),\n",
       " ('DOHMH', 1713),\n",
       " ('DCA', 298),\n",
       " ('DSNY', 3975),\n",
       " ('TLC', 318),\n",
       " ('DEP', 2262),\n",
       " ('EDC', 356),\n",
       " ('DOT', 3407),\n",
       " ('DHS', 501),\n",
       " ('DFTA', 8),\n",
       " ('DOE', 35)]"
      ]
     },
     "execution_count": 8,
     "metadata": {},
     "output_type": "execute_result"
    }
   ],
   "source": [
    "%sql SELECT agency, COUNT(agency) FROM requests GROUP BY agency;"
   ]
  },
  {
   "cell_type": "markdown",
   "metadata": {},
   "source": [
    "## Add constraints\n",
    "\n",
    "### Primary key"
   ]
  },
  {
   "cell_type": "code",
   "execution_count": 9,
   "metadata": {},
   "outputs": [
    {
     "name": "stdout",
     "output_type": "stream",
     "text": [
      " * postgresql://postgres:***@db/cleaning\n",
      "Done.\n"
     ]
    },
    {
     "data": {
      "text/plain": [
       "[]"
      ]
     },
     "execution_count": 9,
     "metadata": {},
     "output_type": "execute_result"
    }
   ],
   "source": [
    "%sql ALTER TABLE requests ADD PRIMARY KEY (unique_key);"
   ]
  },
  {
   "cell_type": "markdown",
   "metadata": {},
   "source": [
    "### Convert dates from strings to datetime"
   ]
  },
  {
   "cell_type": "code",
   "execution_count": 10,
   "metadata": {},
   "outputs": [
    {
     "name": "stdout",
     "output_type": "stream",
     "text": [
      " * postgresql://postgres:***@db/cleaning\n",
      "3 rows affected.\n"
     ]
    },
    {
     "data": {
      "text/html": [
       "<table>\n",
       "    <tr>\n",
       "        <th>created_date</th>\n",
       "    </tr>\n",
       "    <tr>\n",
       "        <td>01/01/2022 12:00:00 AM</td>\n",
       "    </tr>\n",
       "    <tr>\n",
       "        <td>01/01/2022 12:00:10 AM</td>\n",
       "    </tr>\n",
       "    <tr>\n",
       "        <td>01/01/2022 12:00:57 AM</td>\n",
       "    </tr>\n",
       "</table>"
      ],
      "text/plain": [
       "[('01/01/2022 12:00:00 AM',),\n",
       " ('01/01/2022 12:00:10 AM',),\n",
       " ('01/01/2022 12:00:57 AM',)]"
      ]
     },
     "execution_count": 10,
     "metadata": {},
     "output_type": "execute_result"
    }
   ],
   "source": [
    "%sql SELECT created_date FROM requests LIMIT 3;"
   ]
  },
  {
   "cell_type": "code",
   "execution_count": 11,
   "metadata": {},
   "outputs": [
    {
     "name": "stdout",
     "output_type": "stream",
     "text": [
      " * postgresql://postgres:***@db/cleaning\n",
      "Done.\n"
     ]
    },
    {
     "data": {
      "text/plain": [
       "[]"
      ]
     },
     "execution_count": 11,
     "metadata": {},
     "output_type": "execute_result"
    }
   ],
   "source": [
    "%%sql\n",
    "ALTER TABLE requests\n",
    "    ALTER COLUMN created_date SET NOT NULL,\n",
    "    ALTER COLUMN created_date TYPE TIMESTAMP USING to_timestamp(created_date, 'MM-DD-YYYY HH:MI:SS AM');"
   ]
  },
  {
   "cell_type": "code",
   "execution_count": 12,
   "metadata": {},
   "outputs": [
    {
     "name": "stdout",
     "output_type": "stream",
     "text": [
      " * postgresql://postgres:***@db/cleaning\n",
      "3 rows affected.\n"
     ]
    },
    {
     "data": {
      "text/html": [
       "<table>\n",
       "    <tr>\n",
       "        <th>created_date</th>\n",
       "    </tr>\n",
       "    <tr>\n",
       "        <td>2022-01-01 00:00:00</td>\n",
       "    </tr>\n",
       "    <tr>\n",
       "        <td>2022-01-01 00:00:10</td>\n",
       "    </tr>\n",
       "    <tr>\n",
       "        <td>2022-01-01 00:00:57</td>\n",
       "    </tr>\n",
       "</table>"
      ],
      "text/plain": [
       "[(datetime.datetime(2022, 1, 1, 0, 0),),\n",
       " (datetime.datetime(2022, 1, 1, 0, 0, 10),),\n",
       " (datetime.datetime(2022, 1, 1, 0, 0, 57),)]"
      ]
     },
     "execution_count": 12,
     "metadata": {},
     "output_type": "execute_result"
    }
   ],
   "source": [
    "%sql SELECT created_date FROM requests LIMIT 3;"
   ]
  },
  {
   "cell_type": "markdown",
   "metadata": {},
   "source": [
    "#### Your turn: Convert `closed_date` to a timestamp"
   ]
  },
  {
   "cell_type": "code",
   "execution_count": 13,
   "metadata": {},
   "outputs": [],
   "source": [
    "# YOUR CODE HERE"
   ]
  },
  {
   "cell_type": "markdown",
   "metadata": {},
   "source": [
    "### Ranges"
   ]
  },
  {
   "cell_type": "code",
   "execution_count": 14,
   "metadata": {},
   "outputs": [
    {
     "name": "stdout",
     "output_type": "stream",
     "text": [
      " * postgresql://postgres:***@db/cleaning\n"
     ]
    },
    {
     "ename": "IntegrityError",
     "evalue": "(psycopg2.errors.CheckViolation) check constraint \"requests_latitude_check\" of relation \"requests\" is violated by some row\n\n[SQL: ALTER TABLE requests ADD CHECK (latitude > 40 AND latitude < 41);]\n(Background on this error at: https://sqlalche.me/e/14/gkpj)",
     "output_type": "error",
     "traceback": [
      "\u001b[0;31m---------------------------------------------------------------------------\u001b[0m",
      "\u001b[0;31mCheckViolation\u001b[0m                            Traceback (most recent call last)",
      "File \u001b[0;32m~/.local/share/virtualenvs/data-cleaning-LjgTz4ho/lib/python3.10/site-packages/sqlalchemy/engine/base.py:1808\u001b[0m, in \u001b[0;36mConnection._execute_context\u001b[0;34m(self, dialect, constructor, statement, parameters, execution_options, *args, **kw)\u001b[0m\n\u001b[1;32m   <a href='file:///home/vscode/.local/share/virtualenvs/data-cleaning-LjgTz4ho/lib/python3.10/site-packages/sqlalchemy/engine/base.py?line=1806'>1807</a>\u001b[0m     \u001b[39mif\u001b[39;00m \u001b[39mnot\u001b[39;00m evt_handled:\n\u001b[0;32m-> <a href='file:///home/vscode/.local/share/virtualenvs/data-cleaning-LjgTz4ho/lib/python3.10/site-packages/sqlalchemy/engine/base.py?line=1807'>1808</a>\u001b[0m         \u001b[39mself\u001b[39;49m\u001b[39m.\u001b[39;49mdialect\u001b[39m.\u001b[39;49mdo_execute(\n\u001b[1;32m   <a href='file:///home/vscode/.local/share/virtualenvs/data-cleaning-LjgTz4ho/lib/python3.10/site-packages/sqlalchemy/engine/base.py?line=1808'>1809</a>\u001b[0m             cursor, statement, parameters, context\n\u001b[1;32m   <a href='file:///home/vscode/.local/share/virtualenvs/data-cleaning-LjgTz4ho/lib/python3.10/site-packages/sqlalchemy/engine/base.py?line=1809'>1810</a>\u001b[0m         )\n\u001b[1;32m   <a href='file:///home/vscode/.local/share/virtualenvs/data-cleaning-LjgTz4ho/lib/python3.10/site-packages/sqlalchemy/engine/base.py?line=1811'>1812</a>\u001b[0m \u001b[39mif\u001b[39;00m \u001b[39mself\u001b[39m\u001b[39m.\u001b[39m_has_events \u001b[39mor\u001b[39;00m \u001b[39mself\u001b[39m\u001b[39m.\u001b[39mengine\u001b[39m.\u001b[39m_has_events:\n",
      "File \u001b[0;32m~/.local/share/virtualenvs/data-cleaning-LjgTz4ho/lib/python3.10/site-packages/sqlalchemy/engine/default.py:732\u001b[0m, in \u001b[0;36mDefaultDialect.do_execute\u001b[0;34m(self, cursor, statement, parameters, context)\u001b[0m\n\u001b[1;32m    <a href='file:///home/vscode/.local/share/virtualenvs/data-cleaning-LjgTz4ho/lib/python3.10/site-packages/sqlalchemy/engine/default.py?line=730'>731</a>\u001b[0m \u001b[39mdef\u001b[39;00m \u001b[39mdo_execute\u001b[39m(\u001b[39mself\u001b[39m, cursor, statement, parameters, context\u001b[39m=\u001b[39m\u001b[39mNone\u001b[39;00m):\n\u001b[0;32m--> <a href='file:///home/vscode/.local/share/virtualenvs/data-cleaning-LjgTz4ho/lib/python3.10/site-packages/sqlalchemy/engine/default.py?line=731'>732</a>\u001b[0m     cursor\u001b[39m.\u001b[39;49mexecute(statement, parameters)\n",
      "\u001b[0;31mCheckViolation\u001b[0m: check constraint \"requests_latitude_check\" of relation \"requests\" is violated by some row\n",
      "\nThe above exception was the direct cause of the following exception:\n",
      "\u001b[0;31mIntegrityError\u001b[0m                            Traceback (most recent call last)",
      "\u001b[1;32m/workspaces/data-cleaning/sql.ipynb Cell 25'\u001b[0m in \u001b[0;36m<cell line: 1>\u001b[0;34m()\u001b[0m\n\u001b[0;32m----> <a href='vscode-notebook-cell://codespaces%2Bafeld-data-cleaning-4g764q25g65/workspaces/data-cleaning/sql.ipynb#ch0000024vscode-remote?line=0'>1</a>\u001b[0m get_ipython()\u001b[39m.\u001b[39;49mrun_line_magic(\u001b[39m'\u001b[39;49m\u001b[39msql\u001b[39;49m\u001b[39m'\u001b[39;49m, \u001b[39m'\u001b[39;49m\u001b[39mALTER TABLE requests ADD CHECK (latitude > 40 AND latitude < 41);\u001b[39;49m\u001b[39m'\u001b[39;49m)\n",
      "File \u001b[0;32m~/.local/share/virtualenvs/data-cleaning-LjgTz4ho/lib/python3.10/site-packages/IPython/core/interactiveshell.py:2285\u001b[0m, in \u001b[0;36mInteractiveShell.run_line_magic\u001b[0;34m(self, magic_name, line, _stack_depth)\u001b[0m\n\u001b[1;32m   <a href='file:///home/vscode/.local/share/virtualenvs/data-cleaning-LjgTz4ho/lib/python3.10/site-packages/IPython/core/interactiveshell.py?line=2282'>2283</a>\u001b[0m     kwargs[\u001b[39m'\u001b[39m\u001b[39mlocal_ns\u001b[39m\u001b[39m'\u001b[39m] \u001b[39m=\u001b[39m \u001b[39mself\u001b[39m\u001b[39m.\u001b[39mget_local_scope(stack_depth)\n\u001b[1;32m   <a href='file:///home/vscode/.local/share/virtualenvs/data-cleaning-LjgTz4ho/lib/python3.10/site-packages/IPython/core/interactiveshell.py?line=2283'>2284</a>\u001b[0m \u001b[39mwith\u001b[39;00m \u001b[39mself\u001b[39m\u001b[39m.\u001b[39mbuiltin_trap:\n\u001b[0;32m-> <a href='file:///home/vscode/.local/share/virtualenvs/data-cleaning-LjgTz4ho/lib/python3.10/site-packages/IPython/core/interactiveshell.py?line=2284'>2285</a>\u001b[0m     result \u001b[39m=\u001b[39m fn(\u001b[39m*\u001b[39;49margs, \u001b[39m*\u001b[39;49m\u001b[39m*\u001b[39;49mkwargs)\n\u001b[1;32m   <a href='file:///home/vscode/.local/share/virtualenvs/data-cleaning-LjgTz4ho/lib/python3.10/site-packages/IPython/core/interactiveshell.py?line=2285'>2286</a>\u001b[0m \u001b[39mreturn\u001b[39;00m result\n",
      "File \u001b[0;32m~/.local/share/virtualenvs/data-cleaning-LjgTz4ho/lib/python3.10/site-packages/sql/magic.py:217\u001b[0m, in \u001b[0;36mSqlMagic.execute\u001b[0;34m(self, line, cell, local_ns)\u001b[0m\n\u001b[1;32m    <a href='file:///home/vscode/.local/share/virtualenvs/data-cleaning-LjgTz4ho/lib/python3.10/site-packages/sql/magic.py?line=213'>214</a>\u001b[0m     \u001b[39mreturn\u001b[39;00m\n\u001b[1;32m    <a href='file:///home/vscode/.local/share/virtualenvs/data-cleaning-LjgTz4ho/lib/python3.10/site-packages/sql/magic.py?line=215'>216</a>\u001b[0m \u001b[39mtry\u001b[39;00m:\n\u001b[0;32m--> <a href='file:///home/vscode/.local/share/virtualenvs/data-cleaning-LjgTz4ho/lib/python3.10/site-packages/sql/magic.py?line=216'>217</a>\u001b[0m     result \u001b[39m=\u001b[39m sql\u001b[39m.\u001b[39;49mrun\u001b[39m.\u001b[39;49mrun(conn, parsed[\u001b[39m\"\u001b[39;49m\u001b[39msql\u001b[39;49m\u001b[39m\"\u001b[39;49m], \u001b[39mself\u001b[39;49m, user_ns)\n\u001b[1;32m    <a href='file:///home/vscode/.local/share/virtualenvs/data-cleaning-LjgTz4ho/lib/python3.10/site-packages/sql/magic.py?line=218'>219</a>\u001b[0m     \u001b[39mif\u001b[39;00m (\n\u001b[1;32m    <a href='file:///home/vscode/.local/share/virtualenvs/data-cleaning-LjgTz4ho/lib/python3.10/site-packages/sql/magic.py?line=219'>220</a>\u001b[0m         result \u001b[39mis\u001b[39;00m \u001b[39mnot\u001b[39;00m \u001b[39mNone\u001b[39;00m\n\u001b[1;32m    <a href='file:///home/vscode/.local/share/virtualenvs/data-cleaning-LjgTz4ho/lib/python3.10/site-packages/sql/magic.py?line=220'>221</a>\u001b[0m         \u001b[39mand\u001b[39;00m \u001b[39mnot\u001b[39;00m \u001b[39misinstance\u001b[39m(result, \u001b[39mstr\u001b[39m)\n\u001b[0;32m   (...)\u001b[0m\n\u001b[1;32m    <a href='file:///home/vscode/.local/share/virtualenvs/data-cleaning-LjgTz4ho/lib/python3.10/site-packages/sql/magic.py?line=223'>224</a>\u001b[0m         \u001b[39m# Instead of returning values, set variables directly in the\u001b[39;00m\n\u001b[1;32m    <a href='file:///home/vscode/.local/share/virtualenvs/data-cleaning-LjgTz4ho/lib/python3.10/site-packages/sql/magic.py?line=224'>225</a>\u001b[0m         \u001b[39m# users namespace. Variable names given by column names\u001b[39;00m\n\u001b[1;32m    <a href='file:///home/vscode/.local/share/virtualenvs/data-cleaning-LjgTz4ho/lib/python3.10/site-packages/sql/magic.py?line=226'>227</a>\u001b[0m         \u001b[39mif\u001b[39;00m \u001b[39mself\u001b[39m\u001b[39m.\u001b[39mautopandas:\n",
      "File \u001b[0;32m~/.local/share/virtualenvs/data-cleaning-LjgTz4ho/lib/python3.10/site-packages/sql/run.py:367\u001b[0m, in \u001b[0;36mrun\u001b[0;34m(conn, sql, config, user_namespace)\u001b[0m\n\u001b[1;32m    <a href='file:///home/vscode/.local/share/virtualenvs/data-cleaning-LjgTz4ho/lib/python3.10/site-packages/sql/run.py?line=364'>365</a>\u001b[0m \u001b[39melse\u001b[39;00m:\n\u001b[1;32m    <a href='file:///home/vscode/.local/share/virtualenvs/data-cleaning-LjgTz4ho/lib/python3.10/site-packages/sql/run.py?line=365'>366</a>\u001b[0m     txt \u001b[39m=\u001b[39m sqlalchemy\u001b[39m.\u001b[39msql\u001b[39m.\u001b[39mtext(statement)\n\u001b[0;32m--> <a href='file:///home/vscode/.local/share/virtualenvs/data-cleaning-LjgTz4ho/lib/python3.10/site-packages/sql/run.py?line=366'>367</a>\u001b[0m     result \u001b[39m=\u001b[39m conn\u001b[39m.\u001b[39;49msession\u001b[39m.\u001b[39;49mexecute(txt, user_namespace)\n\u001b[1;32m    <a href='file:///home/vscode/.local/share/virtualenvs/data-cleaning-LjgTz4ho/lib/python3.10/site-packages/sql/run.py?line=367'>368</a>\u001b[0m _commit(conn\u001b[39m=\u001b[39mconn, config\u001b[39m=\u001b[39mconfig)\n\u001b[1;32m    <a href='file:///home/vscode/.local/share/virtualenvs/data-cleaning-LjgTz4ho/lib/python3.10/site-packages/sql/run.py?line=368'>369</a>\u001b[0m \u001b[39mif\u001b[39;00m result \u001b[39mand\u001b[39;00m config\u001b[39m.\u001b[39mfeedback:\n",
      "File \u001b[0;32m~/.local/share/virtualenvs/data-cleaning-LjgTz4ho/lib/python3.10/site-packages/sqlalchemy/engine/base.py:1295\u001b[0m, in \u001b[0;36mConnection.execute\u001b[0;34m(self, statement, *multiparams, **params)\u001b[0m\n\u001b[1;32m   <a href='file:///home/vscode/.local/share/virtualenvs/data-cleaning-LjgTz4ho/lib/python3.10/site-packages/sqlalchemy/engine/base.py?line=1290'>1291</a>\u001b[0m     util\u001b[39m.\u001b[39mraise_(\n\u001b[1;32m   <a href='file:///home/vscode/.local/share/virtualenvs/data-cleaning-LjgTz4ho/lib/python3.10/site-packages/sqlalchemy/engine/base.py?line=1291'>1292</a>\u001b[0m         exc\u001b[39m.\u001b[39mObjectNotExecutableError(statement), replace_context\u001b[39m=\u001b[39merr\n\u001b[1;32m   <a href='file:///home/vscode/.local/share/virtualenvs/data-cleaning-LjgTz4ho/lib/python3.10/site-packages/sqlalchemy/engine/base.py?line=1292'>1293</a>\u001b[0m     )\n\u001b[1;32m   <a href='file:///home/vscode/.local/share/virtualenvs/data-cleaning-LjgTz4ho/lib/python3.10/site-packages/sqlalchemy/engine/base.py?line=1293'>1294</a>\u001b[0m \u001b[39melse\u001b[39;00m:\n\u001b[0;32m-> <a href='file:///home/vscode/.local/share/virtualenvs/data-cleaning-LjgTz4ho/lib/python3.10/site-packages/sqlalchemy/engine/base.py?line=1294'>1295</a>\u001b[0m     \u001b[39mreturn\u001b[39;00m meth(\u001b[39mself\u001b[39;49m, multiparams, params, _EMPTY_EXECUTION_OPTS)\n",
      "File \u001b[0;32m~/.local/share/virtualenvs/data-cleaning-LjgTz4ho/lib/python3.10/site-packages/sqlalchemy/sql/elements.py:325\u001b[0m, in \u001b[0;36mClauseElement._execute_on_connection\u001b[0;34m(self, connection, multiparams, params, execution_options, _force)\u001b[0m\n\u001b[1;32m    <a href='file:///home/vscode/.local/share/virtualenvs/data-cleaning-LjgTz4ho/lib/python3.10/site-packages/sqlalchemy/sql/elements.py?line=320'>321</a>\u001b[0m \u001b[39mdef\u001b[39;00m \u001b[39m_execute_on_connection\u001b[39m(\n\u001b[1;32m    <a href='file:///home/vscode/.local/share/virtualenvs/data-cleaning-LjgTz4ho/lib/python3.10/site-packages/sqlalchemy/sql/elements.py?line=321'>322</a>\u001b[0m     \u001b[39mself\u001b[39m, connection, multiparams, params, execution_options, _force\u001b[39m=\u001b[39m\u001b[39mFalse\u001b[39;00m\n\u001b[1;32m    <a href='file:///home/vscode/.local/share/virtualenvs/data-cleaning-LjgTz4ho/lib/python3.10/site-packages/sqlalchemy/sql/elements.py?line=322'>323</a>\u001b[0m ):\n\u001b[1;32m    <a href='file:///home/vscode/.local/share/virtualenvs/data-cleaning-LjgTz4ho/lib/python3.10/site-packages/sqlalchemy/sql/elements.py?line=323'>324</a>\u001b[0m     \u001b[39mif\u001b[39;00m _force \u001b[39mor\u001b[39;00m \u001b[39mself\u001b[39m\u001b[39m.\u001b[39msupports_execution:\n\u001b[0;32m--> <a href='file:///home/vscode/.local/share/virtualenvs/data-cleaning-LjgTz4ho/lib/python3.10/site-packages/sqlalchemy/sql/elements.py?line=324'>325</a>\u001b[0m         \u001b[39mreturn\u001b[39;00m connection\u001b[39m.\u001b[39;49m_execute_clauseelement(\n\u001b[1;32m    <a href='file:///home/vscode/.local/share/virtualenvs/data-cleaning-LjgTz4ho/lib/python3.10/site-packages/sqlalchemy/sql/elements.py?line=325'>326</a>\u001b[0m             \u001b[39mself\u001b[39;49m, multiparams, params, execution_options\n\u001b[1;32m    <a href='file:///home/vscode/.local/share/virtualenvs/data-cleaning-LjgTz4ho/lib/python3.10/site-packages/sqlalchemy/sql/elements.py?line=326'>327</a>\u001b[0m         )\n\u001b[1;32m    <a href='file:///home/vscode/.local/share/virtualenvs/data-cleaning-LjgTz4ho/lib/python3.10/site-packages/sqlalchemy/sql/elements.py?line=327'>328</a>\u001b[0m     \u001b[39melse\u001b[39;00m:\n\u001b[1;32m    <a href='file:///home/vscode/.local/share/virtualenvs/data-cleaning-LjgTz4ho/lib/python3.10/site-packages/sqlalchemy/sql/elements.py?line=328'>329</a>\u001b[0m         \u001b[39mraise\u001b[39;00m exc\u001b[39m.\u001b[39mObjectNotExecutableError(\u001b[39mself\u001b[39m)\n",
      "File \u001b[0;32m~/.local/share/virtualenvs/data-cleaning-LjgTz4ho/lib/python3.10/site-packages/sqlalchemy/engine/base.py:1487\u001b[0m, in \u001b[0;36mConnection._execute_clauseelement\u001b[0;34m(self, elem, multiparams, params, execution_options)\u001b[0m\n\u001b[1;32m   <a href='file:///home/vscode/.local/share/virtualenvs/data-cleaning-LjgTz4ho/lib/python3.10/site-packages/sqlalchemy/engine/base.py?line=1474'>1475</a>\u001b[0m compiled_cache \u001b[39m=\u001b[39m execution_options\u001b[39m.\u001b[39mget(\n\u001b[1;32m   <a href='file:///home/vscode/.local/share/virtualenvs/data-cleaning-LjgTz4ho/lib/python3.10/site-packages/sqlalchemy/engine/base.py?line=1475'>1476</a>\u001b[0m     \u001b[39m\"\u001b[39m\u001b[39mcompiled_cache\u001b[39m\u001b[39m\"\u001b[39m, \u001b[39mself\u001b[39m\u001b[39m.\u001b[39mengine\u001b[39m.\u001b[39m_compiled_cache\n\u001b[1;32m   <a href='file:///home/vscode/.local/share/virtualenvs/data-cleaning-LjgTz4ho/lib/python3.10/site-packages/sqlalchemy/engine/base.py?line=1476'>1477</a>\u001b[0m )\n\u001b[1;32m   <a href='file:///home/vscode/.local/share/virtualenvs/data-cleaning-LjgTz4ho/lib/python3.10/site-packages/sqlalchemy/engine/base.py?line=1478'>1479</a>\u001b[0m compiled_sql, extracted_params, cache_hit \u001b[39m=\u001b[39m elem\u001b[39m.\u001b[39m_compile_w_cache(\n\u001b[1;32m   <a href='file:///home/vscode/.local/share/virtualenvs/data-cleaning-LjgTz4ho/lib/python3.10/site-packages/sqlalchemy/engine/base.py?line=1479'>1480</a>\u001b[0m     dialect\u001b[39m=\u001b[39mdialect,\n\u001b[1;32m   <a href='file:///home/vscode/.local/share/virtualenvs/data-cleaning-LjgTz4ho/lib/python3.10/site-packages/sqlalchemy/engine/base.py?line=1480'>1481</a>\u001b[0m     compiled_cache\u001b[39m=\u001b[39mcompiled_cache,\n\u001b[0;32m   (...)\u001b[0m\n\u001b[1;32m   <a href='file:///home/vscode/.local/share/virtualenvs/data-cleaning-LjgTz4ho/lib/python3.10/site-packages/sqlalchemy/engine/base.py?line=1484'>1485</a>\u001b[0m     linting\u001b[39m=\u001b[39m\u001b[39mself\u001b[39m\u001b[39m.\u001b[39mdialect\u001b[39m.\u001b[39mcompiler_linting \u001b[39m|\u001b[39m compiler\u001b[39m.\u001b[39mWARN_LINTING,\n\u001b[1;32m   <a href='file:///home/vscode/.local/share/virtualenvs/data-cleaning-LjgTz4ho/lib/python3.10/site-packages/sqlalchemy/engine/base.py?line=1485'>1486</a>\u001b[0m )\n\u001b[0;32m-> <a href='file:///home/vscode/.local/share/virtualenvs/data-cleaning-LjgTz4ho/lib/python3.10/site-packages/sqlalchemy/engine/base.py?line=1486'>1487</a>\u001b[0m ret \u001b[39m=\u001b[39m \u001b[39mself\u001b[39;49m\u001b[39m.\u001b[39;49m_execute_context(\n\u001b[1;32m   <a href='file:///home/vscode/.local/share/virtualenvs/data-cleaning-LjgTz4ho/lib/python3.10/site-packages/sqlalchemy/engine/base.py?line=1487'>1488</a>\u001b[0m     dialect,\n\u001b[1;32m   <a href='file:///home/vscode/.local/share/virtualenvs/data-cleaning-LjgTz4ho/lib/python3.10/site-packages/sqlalchemy/engine/base.py?line=1488'>1489</a>\u001b[0m     dialect\u001b[39m.\u001b[39;49mexecution_ctx_cls\u001b[39m.\u001b[39;49m_init_compiled,\n\u001b[1;32m   <a href='file:///home/vscode/.local/share/virtualenvs/data-cleaning-LjgTz4ho/lib/python3.10/site-packages/sqlalchemy/engine/base.py?line=1489'>1490</a>\u001b[0m     compiled_sql,\n\u001b[1;32m   <a href='file:///home/vscode/.local/share/virtualenvs/data-cleaning-LjgTz4ho/lib/python3.10/site-packages/sqlalchemy/engine/base.py?line=1490'>1491</a>\u001b[0m     distilled_params,\n\u001b[1;32m   <a href='file:///home/vscode/.local/share/virtualenvs/data-cleaning-LjgTz4ho/lib/python3.10/site-packages/sqlalchemy/engine/base.py?line=1491'>1492</a>\u001b[0m     execution_options,\n\u001b[1;32m   <a href='file:///home/vscode/.local/share/virtualenvs/data-cleaning-LjgTz4ho/lib/python3.10/site-packages/sqlalchemy/engine/base.py?line=1492'>1493</a>\u001b[0m     compiled_sql,\n\u001b[1;32m   <a href='file:///home/vscode/.local/share/virtualenvs/data-cleaning-LjgTz4ho/lib/python3.10/site-packages/sqlalchemy/engine/base.py?line=1493'>1494</a>\u001b[0m     distilled_params,\n\u001b[1;32m   <a href='file:///home/vscode/.local/share/virtualenvs/data-cleaning-LjgTz4ho/lib/python3.10/site-packages/sqlalchemy/engine/base.py?line=1494'>1495</a>\u001b[0m     elem,\n\u001b[1;32m   <a href='file:///home/vscode/.local/share/virtualenvs/data-cleaning-LjgTz4ho/lib/python3.10/site-packages/sqlalchemy/engine/base.py?line=1495'>1496</a>\u001b[0m     extracted_params,\n\u001b[1;32m   <a href='file:///home/vscode/.local/share/virtualenvs/data-cleaning-LjgTz4ho/lib/python3.10/site-packages/sqlalchemy/engine/base.py?line=1496'>1497</a>\u001b[0m     cache_hit\u001b[39m=\u001b[39;49mcache_hit,\n\u001b[1;32m   <a href='file:///home/vscode/.local/share/virtualenvs/data-cleaning-LjgTz4ho/lib/python3.10/site-packages/sqlalchemy/engine/base.py?line=1497'>1498</a>\u001b[0m )\n\u001b[1;32m   <a href='file:///home/vscode/.local/share/virtualenvs/data-cleaning-LjgTz4ho/lib/python3.10/site-packages/sqlalchemy/engine/base.py?line=1498'>1499</a>\u001b[0m \u001b[39mif\u001b[39;00m has_events:\n\u001b[1;32m   <a href='file:///home/vscode/.local/share/virtualenvs/data-cleaning-LjgTz4ho/lib/python3.10/site-packages/sqlalchemy/engine/base.py?line=1499'>1500</a>\u001b[0m     \u001b[39mself\u001b[39m\u001b[39m.\u001b[39mdispatch\u001b[39m.\u001b[39mafter_execute(\n\u001b[1;32m   <a href='file:///home/vscode/.local/share/virtualenvs/data-cleaning-LjgTz4ho/lib/python3.10/site-packages/sqlalchemy/engine/base.py?line=1500'>1501</a>\u001b[0m         \u001b[39mself\u001b[39m,\n\u001b[1;32m   <a href='file:///home/vscode/.local/share/virtualenvs/data-cleaning-LjgTz4ho/lib/python3.10/site-packages/sqlalchemy/engine/base.py?line=1501'>1502</a>\u001b[0m         elem,\n\u001b[0;32m   (...)\u001b[0m\n\u001b[1;32m   <a href='file:///home/vscode/.local/share/virtualenvs/data-cleaning-LjgTz4ho/lib/python3.10/site-packages/sqlalchemy/engine/base.py?line=1505'>1506</a>\u001b[0m         ret,\n\u001b[1;32m   <a href='file:///home/vscode/.local/share/virtualenvs/data-cleaning-LjgTz4ho/lib/python3.10/site-packages/sqlalchemy/engine/base.py?line=1506'>1507</a>\u001b[0m     )\n",
      "File \u001b[0;32m~/.local/share/virtualenvs/data-cleaning-LjgTz4ho/lib/python3.10/site-packages/sqlalchemy/engine/base.py:1851\u001b[0m, in \u001b[0;36mConnection._execute_context\u001b[0;34m(self, dialect, constructor, statement, parameters, execution_options, *args, **kw)\u001b[0m\n\u001b[1;32m   <a href='file:///home/vscode/.local/share/virtualenvs/data-cleaning-LjgTz4ho/lib/python3.10/site-packages/sqlalchemy/engine/base.py?line=1847'>1848</a>\u001b[0m             branched\u001b[39m.\u001b[39mclose()\n\u001b[1;32m   <a href='file:///home/vscode/.local/share/virtualenvs/data-cleaning-LjgTz4ho/lib/python3.10/site-packages/sqlalchemy/engine/base.py?line=1849'>1850</a>\u001b[0m \u001b[39mexcept\u001b[39;00m \u001b[39mBaseException\u001b[39;00m \u001b[39mas\u001b[39;00m e:\n\u001b[0;32m-> <a href='file:///home/vscode/.local/share/virtualenvs/data-cleaning-LjgTz4ho/lib/python3.10/site-packages/sqlalchemy/engine/base.py?line=1850'>1851</a>\u001b[0m     \u001b[39mself\u001b[39;49m\u001b[39m.\u001b[39;49m_handle_dbapi_exception(\n\u001b[1;32m   <a href='file:///home/vscode/.local/share/virtualenvs/data-cleaning-LjgTz4ho/lib/python3.10/site-packages/sqlalchemy/engine/base.py?line=1851'>1852</a>\u001b[0m         e, statement, parameters, cursor, context\n\u001b[1;32m   <a href='file:///home/vscode/.local/share/virtualenvs/data-cleaning-LjgTz4ho/lib/python3.10/site-packages/sqlalchemy/engine/base.py?line=1852'>1853</a>\u001b[0m     )\n\u001b[1;32m   <a href='file:///home/vscode/.local/share/virtualenvs/data-cleaning-LjgTz4ho/lib/python3.10/site-packages/sqlalchemy/engine/base.py?line=1854'>1855</a>\u001b[0m \u001b[39mreturn\u001b[39;00m result\n",
      "File \u001b[0;32m~/.local/share/virtualenvs/data-cleaning-LjgTz4ho/lib/python3.10/site-packages/sqlalchemy/engine/base.py:2032\u001b[0m, in \u001b[0;36mConnection._handle_dbapi_exception\u001b[0;34m(self, e, statement, parameters, cursor, context)\u001b[0m\n\u001b[1;32m   <a href='file:///home/vscode/.local/share/virtualenvs/data-cleaning-LjgTz4ho/lib/python3.10/site-packages/sqlalchemy/engine/base.py?line=2029'>2030</a>\u001b[0m     util\u001b[39m.\u001b[39mraise_(newraise, with_traceback\u001b[39m=\u001b[39mexc_info[\u001b[39m2\u001b[39m], from_\u001b[39m=\u001b[39me)\n\u001b[1;32m   <a href='file:///home/vscode/.local/share/virtualenvs/data-cleaning-LjgTz4ho/lib/python3.10/site-packages/sqlalchemy/engine/base.py?line=2030'>2031</a>\u001b[0m \u001b[39melif\u001b[39;00m should_wrap:\n\u001b[0;32m-> <a href='file:///home/vscode/.local/share/virtualenvs/data-cleaning-LjgTz4ho/lib/python3.10/site-packages/sqlalchemy/engine/base.py?line=2031'>2032</a>\u001b[0m     util\u001b[39m.\u001b[39;49mraise_(\n\u001b[1;32m   <a href='file:///home/vscode/.local/share/virtualenvs/data-cleaning-LjgTz4ho/lib/python3.10/site-packages/sqlalchemy/engine/base.py?line=2032'>2033</a>\u001b[0m         sqlalchemy_exception, with_traceback\u001b[39m=\u001b[39;49mexc_info[\u001b[39m2\u001b[39;49m], from_\u001b[39m=\u001b[39;49me\n\u001b[1;32m   <a href='file:///home/vscode/.local/share/virtualenvs/data-cleaning-LjgTz4ho/lib/python3.10/site-packages/sqlalchemy/engine/base.py?line=2033'>2034</a>\u001b[0m     )\n\u001b[1;32m   <a href='file:///home/vscode/.local/share/virtualenvs/data-cleaning-LjgTz4ho/lib/python3.10/site-packages/sqlalchemy/engine/base.py?line=2034'>2035</a>\u001b[0m \u001b[39melse\u001b[39;00m:\n\u001b[1;32m   <a href='file:///home/vscode/.local/share/virtualenvs/data-cleaning-LjgTz4ho/lib/python3.10/site-packages/sqlalchemy/engine/base.py?line=2035'>2036</a>\u001b[0m     util\u001b[39m.\u001b[39mraise_(exc_info[\u001b[39m1\u001b[39m], with_traceback\u001b[39m=\u001b[39mexc_info[\u001b[39m2\u001b[39m])\n",
      "File \u001b[0;32m~/.local/share/virtualenvs/data-cleaning-LjgTz4ho/lib/python3.10/site-packages/sqlalchemy/util/compat.py:207\u001b[0m, in \u001b[0;36mraise_\u001b[0;34m(***failed resolving arguments***)\u001b[0m\n\u001b[1;32m    <a href='file:///home/vscode/.local/share/virtualenvs/data-cleaning-LjgTz4ho/lib/python3.10/site-packages/sqlalchemy/util/compat.py?line=203'>204</a>\u001b[0m     exception\u001b[39m.\u001b[39m__cause__ \u001b[39m=\u001b[39m replace_context\n\u001b[1;32m    <a href='file:///home/vscode/.local/share/virtualenvs/data-cleaning-LjgTz4ho/lib/python3.10/site-packages/sqlalchemy/util/compat.py?line=205'>206</a>\u001b[0m \u001b[39mtry\u001b[39;00m:\n\u001b[0;32m--> <a href='file:///home/vscode/.local/share/virtualenvs/data-cleaning-LjgTz4ho/lib/python3.10/site-packages/sqlalchemy/util/compat.py?line=206'>207</a>\u001b[0m     \u001b[39mraise\u001b[39;00m exception\n\u001b[1;32m    <a href='file:///home/vscode/.local/share/virtualenvs/data-cleaning-LjgTz4ho/lib/python3.10/site-packages/sqlalchemy/util/compat.py?line=207'>208</a>\u001b[0m \u001b[39mfinally\u001b[39;00m:\n\u001b[1;32m    <a href='file:///home/vscode/.local/share/virtualenvs/data-cleaning-LjgTz4ho/lib/python3.10/site-packages/sqlalchemy/util/compat.py?line=208'>209</a>\u001b[0m     \u001b[39m# credit to\u001b[39;00m\n\u001b[1;32m    <a href='file:///home/vscode/.local/share/virtualenvs/data-cleaning-LjgTz4ho/lib/python3.10/site-packages/sqlalchemy/util/compat.py?line=209'>210</a>\u001b[0m     \u001b[39m# https://cosmicpercolator.com/2016/01/13/exception-leaks-in-python-2-and-3/\u001b[39;00m\n\u001b[1;32m    <a href='file:///home/vscode/.local/share/virtualenvs/data-cleaning-LjgTz4ho/lib/python3.10/site-packages/sqlalchemy/util/compat.py?line=210'>211</a>\u001b[0m     \u001b[39m# as the __traceback__ object creates a cycle\u001b[39;00m\n\u001b[1;32m    <a href='file:///home/vscode/.local/share/virtualenvs/data-cleaning-LjgTz4ho/lib/python3.10/site-packages/sqlalchemy/util/compat.py?line=211'>212</a>\u001b[0m     \u001b[39mdel\u001b[39;00m exception, replace_context, from_, with_traceback\n",
      "File \u001b[0;32m~/.local/share/virtualenvs/data-cleaning-LjgTz4ho/lib/python3.10/site-packages/sqlalchemy/engine/base.py:1808\u001b[0m, in \u001b[0;36mConnection._execute_context\u001b[0;34m(self, dialect, constructor, statement, parameters, execution_options, *args, **kw)\u001b[0m\n\u001b[1;32m   <a href='file:///home/vscode/.local/share/virtualenvs/data-cleaning-LjgTz4ho/lib/python3.10/site-packages/sqlalchemy/engine/base.py?line=1805'>1806</a>\u001b[0m                 \u001b[39mbreak\u001b[39;00m\n\u001b[1;32m   <a href='file:///home/vscode/.local/share/virtualenvs/data-cleaning-LjgTz4ho/lib/python3.10/site-packages/sqlalchemy/engine/base.py?line=1806'>1807</a>\u001b[0m     \u001b[39mif\u001b[39;00m \u001b[39mnot\u001b[39;00m evt_handled:\n\u001b[0;32m-> <a href='file:///home/vscode/.local/share/virtualenvs/data-cleaning-LjgTz4ho/lib/python3.10/site-packages/sqlalchemy/engine/base.py?line=1807'>1808</a>\u001b[0m         \u001b[39mself\u001b[39;49m\u001b[39m.\u001b[39;49mdialect\u001b[39m.\u001b[39;49mdo_execute(\n\u001b[1;32m   <a href='file:///home/vscode/.local/share/virtualenvs/data-cleaning-LjgTz4ho/lib/python3.10/site-packages/sqlalchemy/engine/base.py?line=1808'>1809</a>\u001b[0m             cursor, statement, parameters, context\n\u001b[1;32m   <a href='file:///home/vscode/.local/share/virtualenvs/data-cleaning-LjgTz4ho/lib/python3.10/site-packages/sqlalchemy/engine/base.py?line=1809'>1810</a>\u001b[0m         )\n\u001b[1;32m   <a href='file:///home/vscode/.local/share/virtualenvs/data-cleaning-LjgTz4ho/lib/python3.10/site-packages/sqlalchemy/engine/base.py?line=1811'>1812</a>\u001b[0m \u001b[39mif\u001b[39;00m \u001b[39mself\u001b[39m\u001b[39m.\u001b[39m_has_events \u001b[39mor\u001b[39;00m \u001b[39mself\u001b[39m\u001b[39m.\u001b[39mengine\u001b[39m.\u001b[39m_has_events:\n\u001b[1;32m   <a href='file:///home/vscode/.local/share/virtualenvs/data-cleaning-LjgTz4ho/lib/python3.10/site-packages/sqlalchemy/engine/base.py?line=1812'>1813</a>\u001b[0m     \u001b[39mself\u001b[39m\u001b[39m.\u001b[39mdispatch\u001b[39m.\u001b[39mafter_cursor_execute(\n\u001b[1;32m   <a href='file:///home/vscode/.local/share/virtualenvs/data-cleaning-LjgTz4ho/lib/python3.10/site-packages/sqlalchemy/engine/base.py?line=1813'>1814</a>\u001b[0m         \u001b[39mself\u001b[39m,\n\u001b[1;32m   <a href='file:///home/vscode/.local/share/virtualenvs/data-cleaning-LjgTz4ho/lib/python3.10/site-packages/sqlalchemy/engine/base.py?line=1814'>1815</a>\u001b[0m         cursor,\n\u001b[0;32m   (...)\u001b[0m\n\u001b[1;32m   <a href='file:///home/vscode/.local/share/virtualenvs/data-cleaning-LjgTz4ho/lib/python3.10/site-packages/sqlalchemy/engine/base.py?line=1818'>1819</a>\u001b[0m         context\u001b[39m.\u001b[39mexecutemany,\n\u001b[1;32m   <a href='file:///home/vscode/.local/share/virtualenvs/data-cleaning-LjgTz4ho/lib/python3.10/site-packages/sqlalchemy/engine/base.py?line=1819'>1820</a>\u001b[0m     )\n",
      "File \u001b[0;32m~/.local/share/virtualenvs/data-cleaning-LjgTz4ho/lib/python3.10/site-packages/sqlalchemy/engine/default.py:732\u001b[0m, in \u001b[0;36mDefaultDialect.do_execute\u001b[0;34m(self, cursor, statement, parameters, context)\u001b[0m\n\u001b[1;32m    <a href='file:///home/vscode/.local/share/virtualenvs/data-cleaning-LjgTz4ho/lib/python3.10/site-packages/sqlalchemy/engine/default.py?line=730'>731</a>\u001b[0m \u001b[39mdef\u001b[39;00m \u001b[39mdo_execute\u001b[39m(\u001b[39mself\u001b[39m, cursor, statement, parameters, context\u001b[39m=\u001b[39m\u001b[39mNone\u001b[39;00m):\n\u001b[0;32m--> <a href='file:///home/vscode/.local/share/virtualenvs/data-cleaning-LjgTz4ho/lib/python3.10/site-packages/sqlalchemy/engine/default.py?line=731'>732</a>\u001b[0m     cursor\u001b[39m.\u001b[39;49mexecute(statement, parameters)\n",
      "\u001b[0;31mIntegrityError\u001b[0m: (psycopg2.errors.CheckViolation) check constraint \"requests_latitude_check\" of relation \"requests\" is violated by some row\n\n[SQL: ALTER TABLE requests ADD CHECK (latitude > 40 AND latitude < 41);]\n(Background on this error at: https://sqlalche.me/e/14/gkpj)"
     ]
    }
   ],
   "source": [
    "%sql ALTER TABLE requests ADD CHECK (latitude > 40 AND latitude < 41);"
   ]
  },
  {
   "cell_type": "code",
   "execution_count": null,
   "metadata": {},
   "outputs": [
    {
     "name": "stdout",
     "output_type": "stream",
     "text": [
      " * postgresql://postgres:***@db/cleaning\n",
      "1 rows affected.\n"
     ]
    },
    {
     "data": {
      "text/html": [
       "<table>\n",
       "    <tr>\n",
       "        <th>min</th>\n",
       "        <th>max</th>\n",
       "    </tr>\n",
       "    <tr>\n",
       "        <td>2.040074755e-06</td>\n",
       "        <td>40.91216806886205</td>\n",
       "    </tr>\n",
       "</table>"
      ],
      "text/plain": [
       "[(2.040074755e-06, 40.91216806886205)]"
      ]
     },
     "execution_count": 23,
     "metadata": {},
     "output_type": "execute_result"
    }
   ],
   "source": [
    "%sql SELECT MIN(latitude), MAX(latitude) FROM requests;"
   ]
  }
 ],
 "metadata": {
  "interpreter": {
   "hash": "08fc278d3f31c0b0fd6bb49f0681c6887afcbf0d4bad045b2b6598ab5c36d0a3"
  },
  "kernelspec": {
   "display_name": "Python 3.10.0 ('data-cleaning-Wov1k-g_')",
   "language": "python",
   "name": "python3"
  },
  "language_info": {
   "codemirror_mode": {
    "name": "ipython",
    "version": 3
   },
   "file_extension": ".py",
   "mimetype": "text/x-python",
   "name": "python",
   "nbconvert_exporter": "python",
   "pygments_lexer": "ipython3",
   "version": "3.10.2"
  },
  "orig_nbformat": 4
 },
 "nbformat": 4,
 "nbformat_minor": 2
}
