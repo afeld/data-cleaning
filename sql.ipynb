{
 "cells": [
  {
   "cell_type": "markdown",
   "metadata": {},
   "source": [
    "# Data cleaning in SQL\n",
    "\n",
    "General notes:\n",
    "\n",
    "- To execute SQL commands, prefix with `%sql`. For multiple lines, use `%%sql` and then a newline."
   ]
  },
  {
   "cell_type": "markdown",
   "metadata": {},
   "source": [
    "## Environment setup\n",
    "\n",
    "We'll be using [ipython-sql](https://github.com/catherinedevlin/ipython-sql) to work with SQL directly within a notebook."
   ]
  },
  {
   "cell_type": "code",
   "execution_count": 1,
   "metadata": {},
   "outputs": [],
   "source": [
    "%load_ext sql"
   ]
  },
  {
   "cell_type": "code",
   "execution_count": 2,
   "metadata": {},
   "outputs": [],
   "source": [
    "%sql postgresql://postgres:postgres@db/cleaning"
   ]
  },
  {
   "cell_type": "markdown",
   "metadata": {},
   "source": [
    "Start from a clean slate:"
   ]
  },
  {
   "cell_type": "code",
   "execution_count": 3,
   "metadata": {},
   "outputs": [
    {
     "name": "stdout",
     "output_type": "stream",
     "text": [
      " * postgresql://postgres:***@db/cleaning\n",
      "Done.\n"
     ]
    },
    {
     "data": {
      "text/plain": [
       "[]"
      ]
     },
     "execution_count": 3,
     "metadata": {},
     "output_type": "execute_result"
    }
   ],
   "source": [
    "%sql DROP TABLE IF EXISTS requests;"
   ]
  },
  {
   "cell_type": "markdown",
   "metadata": {},
   "source": [
    "### Load data\n",
    "\n",
    "We're taking data from the CSV and putting it in an in-memory [SQLite](https://sqlite.org/index.html) database via [pandas](https://pandas.pydata.org/)."
   ]
  },
  {
   "cell_type": "code",
   "execution_count": 4,
   "metadata": {},
   "outputs": [],
   "source": [
    "import pandas as pd\n",
    "\n",
    "requests = pd.read_csv(\"311_jan_2022.csv\", index_col=\"Unique Key\")"
   ]
  },
  {
   "cell_type": "code",
   "execution_count": 5,
   "metadata": {},
   "outputs": [
    {
     "name": "stdout",
     "output_type": "stream",
     "text": [
      " * postgresql://postgres:***@db/cleaning\n"
     ]
    },
    {
     "data": {
      "text/plain": [
       "'Persisted requests'"
      ]
     },
     "execution_count": 5,
     "metadata": {},
     "output_type": "execute_result"
    }
   ],
   "source": [
    "%sql --persist requests"
   ]
  },
  {
   "cell_type": "markdown",
   "metadata": {},
   "source": [
    "#### Ensure records were loaded"
   ]
  },
  {
   "cell_type": "code",
   "execution_count": 6,
   "metadata": {},
   "outputs": [
    {
     "name": "stdout",
     "output_type": "stream",
     "text": [
      " * postgresql://postgres:***@db/cleaning\n",
      "3 rows affected.\n"
     ]
    },
    {
     "data": {
      "text/html": [
       "<table>\n",
       "    <tr>\n",
       "        <th>Unique Key</th>\n",
       "        <th>Created Date</th>\n",
       "        <th>Closed Date</th>\n",
       "        <th>Agency</th>\n",
       "        <th>Agency Name</th>\n",
       "        <th>Complaint Type</th>\n",
       "        <th>Descriptor</th>\n",
       "        <th>Location Type</th>\n",
       "        <th>Incident Zip</th>\n",
       "        <th>Incident Address</th>\n",
       "        <th>Street Name</th>\n",
       "        <th>Cross Street 1</th>\n",
       "        <th>Cross Street 2</th>\n",
       "        <th>Intersection Street 1</th>\n",
       "        <th>Intersection Street 2</th>\n",
       "        <th>Address Type</th>\n",
       "        <th>City</th>\n",
       "        <th>Landmark</th>\n",
       "        <th>Facility Type</th>\n",
       "        <th>Status</th>\n",
       "        <th>Due Date</th>\n",
       "        <th>Resolution Description</th>\n",
       "        <th>Resolution Action Updated Date</th>\n",
       "        <th>Community Board</th>\n",
       "        <th>BBL</th>\n",
       "        <th>Borough</th>\n",
       "        <th>X Coordinate (State Plane)</th>\n",
       "        <th>Y Coordinate (State Plane)</th>\n",
       "        <th>Open Data Channel Type</th>\n",
       "        <th>Park Facility Name</th>\n",
       "        <th>Park Borough</th>\n",
       "        <th>Vehicle Type</th>\n",
       "        <th>Taxi Company Borough</th>\n",
       "        <th>Taxi Pick Up Location</th>\n",
       "        <th>Bridge Highway Name</th>\n",
       "        <th>Bridge Highway Direction</th>\n",
       "        <th>Road Ramp</th>\n",
       "        <th>Bridge Highway Segment</th>\n",
       "        <th>Latitude</th>\n",
       "        <th>Longitude</th>\n",
       "        <th>Location</th>\n",
       "    </tr>\n",
       "    <tr>\n",
       "        <td>52940375</td>\n",
       "        <td>01/01/2022 12:00:00 AM</td>\n",
       "        <td>01/03/2022 08:39:00 AM</td>\n",
       "        <td>DEP</td>\n",
       "        <td>Department of Environmental Protection</td>\n",
       "        <td>Air Quality</td>\n",
       "        <td>Air: Odor/Fumes, Vehicle Idling (AD3)</td>\n",
       "        <td>None</td>\n",
       "        <td>10036.0</td>\n",
       "        <td>640 8 AVENUE</td>\n",
       "        <td>8 AVENUE</td>\n",
       "        <td>W 41 ST</td>\n",
       "        <td>W 42 ST</td>\n",
       "        <td>None</td>\n",
       "        <td>None</td>\n",
       "        <td>ADDRESS</td>\n",
       "        <td>NEW YORK</td>\n",
       "        <td>None</td>\n",
       "        <td>None</td>\n",
       "        <td>Closed</td>\n",
       "        <td>None</td>\n",
       "        <td>The Department of Environmental Protection determined that this complaint is a duplicate of a previously filed complaint. The original complaint is being addressed.</td>\n",
       "        <td>01/03/2022 08:39:00 AM</td>\n",
       "        <td>05 MANHATTAN</td>\n",
       "        <td>1010137501.0</td>\n",
       "        <td>MANHATTAN</td>\n",
       "        <td>986967.0</td>\n",
       "        <td>214950.0</td>\n",
       "        <td>ONLINE</td>\n",
       "        <td>Unspecified</td>\n",
       "        <td>MANHATTAN</td>\n",
       "        <td>None</td>\n",
       "        <td>None</td>\n",
       "        <td>None</td>\n",
       "        <td>None</td>\n",
       "        <td>None</td>\n",
       "        <td>None</td>\n",
       "        <td>None</td>\n",
       "        <td>40.75666417742652</td>\n",
       "        <td>-73.99019293432467</td>\n",
       "        <td>(40.75666417742652, -73.99019293432467)</td>\n",
       "    </tr>\n",
       "    <tr>\n",
       "        <td>52934953</td>\n",
       "        <td>01/01/2022 12:00:10 AM</td>\n",
       "        <td>01/01/2022 01:00:11 AM</td>\n",
       "        <td>NYPD</td>\n",
       "        <td>New York City Police Department</td>\n",
       "        <td>Noise - Street/Sidewalk</td>\n",
       "        <td>Loud Music/Party</td>\n",
       "        <td>Street/Sidewalk</td>\n",
       "        <td>11222.0</td>\n",
       "        <td>126 DRIGGS AVENUE</td>\n",
       "        <td>DRIGGS AVENUE</td>\n",
       "        <td>NORTH HENRY STREET</td>\n",
       "        <td>RUSSELL STREET</td>\n",
       "        <td>NORTH HENRY STREET</td>\n",
       "        <td>RUSSELL STREET</td>\n",
       "        <td>ADDRESS</td>\n",
       "        <td>BROOKLYN</td>\n",
       "        <td>DRIGGS AVENUE</td>\n",
       "        <td>None</td>\n",
       "        <td>Closed</td>\n",
       "        <td>None</td>\n",
       "        <td>The Police Department responded to the complaint and with the information available observed no evidence of the violation at that time.</td>\n",
       "        <td>01/01/2022 01:00:15 AM</td>\n",
       "        <td>01 BROOKLYN</td>\n",
       "        <td>None</td>\n",
       "        <td>BROOKLYN</td>\n",
       "        <td>999866.0</td>\n",
       "        <td>202742.0</td>\n",
       "        <td>MOBILE</td>\n",
       "        <td>Unspecified</td>\n",
       "        <td>BROOKLYN</td>\n",
       "        <td>None</td>\n",
       "        <td>None</td>\n",
       "        <td>None</td>\n",
       "        <td>None</td>\n",
       "        <td>None</td>\n",
       "        <td>None</td>\n",
       "        <td>None</td>\n",
       "        <td>40.72314288436064</td>\n",
       "        <td>-73.94366208445774</td>\n",
       "        <td>(40.72314288436064, -73.94366208445774)</td>\n",
       "    </tr>\n",
       "    <tr>\n",
       "        <td>52933158</td>\n",
       "        <td>01/01/2022 12:00:57 AM</td>\n",
       "        <td>01/01/2022 12:58:22 AM</td>\n",
       "        <td>NYPD</td>\n",
       "        <td>New York City Police Department</td>\n",
       "        <td>Noise - Residential</td>\n",
       "        <td>Loud Talking</td>\n",
       "        <td>Residential Building/House</td>\n",
       "        <td>11214.0</td>\n",
       "        <td>45 BAY   38 STREET</td>\n",
       "        <td>BAY   38 STREET</td>\n",
       "        <td>86 STREET</td>\n",
       "        <td>BENSON AVENUE</td>\n",
       "        <td>86 STREET</td>\n",
       "        <td>BENSON AVENUE</td>\n",
       "        <td>ADDRESS</td>\n",
       "        <td>BROOKLYN</td>\n",
       "        <td>BAY   38 STREET</td>\n",
       "        <td>None</td>\n",
       "        <td>Closed</td>\n",
       "        <td>None</td>\n",
       "        <td>The Police Department responded to the complaint and with the information available observed no evidence of the violation at that time.</td>\n",
       "        <td>01/01/2022 12:58:29 AM</td>\n",
       "        <td>11 BROOKLYN</td>\n",
       "        <td>3068667501.0</td>\n",
       "        <td>BROOKLYN</td>\n",
       "        <td>987344.0</td>\n",
       "        <td>156952.0</td>\n",
       "        <td>MOBILE</td>\n",
       "        <td>Unspecified</td>\n",
       "        <td>BROOKLYN</td>\n",
       "        <td>None</td>\n",
       "        <td>None</td>\n",
       "        <td>None</td>\n",
       "        <td>None</td>\n",
       "        <td>None</td>\n",
       "        <td>None</td>\n",
       "        <td>None</td>\n",
       "        <td>40.59747269272421</td>\n",
       "        <td>-73.98885877127528</td>\n",
       "        <td>(40.59747269272421, -73.98885877127528)</td>\n",
       "    </tr>\n",
       "</table>"
      ],
      "text/plain": [
       "[(52940375, '01/01/2022 12:00:00 AM', '01/03/2022 08:39:00 AM', 'DEP', 'Department of Environmental Protection', 'Air Quality', 'Air: Odor/Fumes, Vehicle Idling (AD3)', None, 10036.0, '640 8 AVENUE', '8 AVENUE', 'W 41 ST', 'W 42 ST', None, None, 'ADDRESS', 'NEW YORK', None, None, 'Closed', None, 'The Department of Environmental Protection determined that this complaint is a duplicate of a previously filed complaint. The original complaint is being addressed.', '01/03/2022 08:39:00 AM', '05 MANHATTAN', 1010137501.0, 'MANHATTAN', 986967.0, 214950.0, 'ONLINE', 'Unspecified', 'MANHATTAN', None, None, None, None, None, None, None, 40.75666417742652, -73.99019293432467, '(40.75666417742652, -73.99019293432467)'),\n",
       " (52934953, '01/01/2022 12:00:10 AM', '01/01/2022 01:00:11 AM', 'NYPD', 'New York City Police Department', 'Noise - Street/Sidewalk', 'Loud Music/Party', 'Street/Sidewalk', 11222.0, '126 DRIGGS AVENUE', 'DRIGGS AVENUE', 'NORTH HENRY STREET', 'RUSSELL STREET', 'NORTH HENRY STREET', 'RUSSELL STREET', 'ADDRESS', 'BROOKLYN', 'DRIGGS AVENUE', None, 'Closed', None, 'The Police Department responded to the complaint and with the information available observed no evidence of the violation at that time.', '01/01/2022 01:00:15 AM', '01 BROOKLYN', None, 'BROOKLYN', 999866.0, 202742.0, 'MOBILE', 'Unspecified', 'BROOKLYN', None, None, None, None, None, None, None, 40.72314288436064, -73.94366208445774, '(40.72314288436064, -73.94366208445774)'),\n",
       " (52933158, '01/01/2022 12:00:57 AM', '01/01/2022 12:58:22 AM', 'NYPD', 'New York City Police Department', 'Noise - Residential', 'Loud Talking', 'Residential Building/House', 11214.0, '45 BAY   38 STREET', 'BAY   38 STREET', '86 STREET', 'BENSON AVENUE', '86 STREET', 'BENSON AVENUE', 'ADDRESS', 'BROOKLYN', 'BAY   38 STREET', None, 'Closed', None, 'The Police Department responded to the complaint and with the information available observed no evidence of the violation at that time.', '01/01/2022 12:58:29 AM', '11 BROOKLYN', 3068667501.0, 'BROOKLYN', 987344.0, 156952.0, 'MOBILE', 'Unspecified', 'BROOKLYN', None, None, None, None, None, None, None, 40.59747269272421, -73.98885877127528, '(40.59747269272421, -73.98885877127528)')]"
      ]
     },
     "execution_count": 6,
     "metadata": {},
     "output_type": "execute_result"
    }
   ],
   "source": [
    "%sql SELECT * FROM requests LIMIT 3;"
   ]
  },
  {
   "cell_type": "markdown",
   "metadata": {},
   "source": [
    "#### [Display the schema](https://www.postgresql.org/docs/current/app-psql.html#APP-PSQL-META-COMMANDS)"
   ]
  },
  {
   "cell_type": "code",
   "execution_count": 7,
   "metadata": {},
   "outputs": [
    {
     "name": "stdout",
     "output_type": "stream",
     "text": [
      " * postgresql://postgres:***@db/cleaning\n",
      "41 rows affected.\n"
     ]
    },
    {
     "data": {
      "text/html": [
       "<table>\n",
       "    <tr>\n",
       "        <th>Column</th>\n",
       "        <th>Type</th>\n",
       "        <th>Modifiers</th>\n",
       "    </tr>\n",
       "    <tr>\n",
       "        <td>Unique Key</td>\n",
       "        <td>bigint</td>\n",
       "        <td></td>\n",
       "    </tr>\n",
       "    <tr>\n",
       "        <td>Created Date</td>\n",
       "        <td>text</td>\n",
       "        <td></td>\n",
       "    </tr>\n",
       "    <tr>\n",
       "        <td>Closed Date</td>\n",
       "        <td>text</td>\n",
       "        <td></td>\n",
       "    </tr>\n",
       "    <tr>\n",
       "        <td>Agency</td>\n",
       "        <td>text</td>\n",
       "        <td></td>\n",
       "    </tr>\n",
       "    <tr>\n",
       "        <td>Agency Name</td>\n",
       "        <td>text</td>\n",
       "        <td></td>\n",
       "    </tr>\n",
       "    <tr>\n",
       "        <td>Complaint Type</td>\n",
       "        <td>text</td>\n",
       "        <td></td>\n",
       "    </tr>\n",
       "    <tr>\n",
       "        <td>Descriptor</td>\n",
       "        <td>text</td>\n",
       "        <td></td>\n",
       "    </tr>\n",
       "    <tr>\n",
       "        <td>Location Type</td>\n",
       "        <td>text</td>\n",
       "        <td></td>\n",
       "    </tr>\n",
       "    <tr>\n",
       "        <td>Incident Zip</td>\n",
       "        <td>double precision</td>\n",
       "        <td></td>\n",
       "    </tr>\n",
       "    <tr>\n",
       "        <td>Incident Address</td>\n",
       "        <td>text</td>\n",
       "        <td></td>\n",
       "    </tr>\n",
       "    <tr>\n",
       "        <td>Street Name</td>\n",
       "        <td>text</td>\n",
       "        <td></td>\n",
       "    </tr>\n",
       "    <tr>\n",
       "        <td>Cross Street 1</td>\n",
       "        <td>text</td>\n",
       "        <td></td>\n",
       "    </tr>\n",
       "    <tr>\n",
       "        <td>Cross Street 2</td>\n",
       "        <td>text</td>\n",
       "        <td></td>\n",
       "    </tr>\n",
       "    <tr>\n",
       "        <td>Intersection Street 1</td>\n",
       "        <td>text</td>\n",
       "        <td></td>\n",
       "    </tr>\n",
       "    <tr>\n",
       "        <td>Intersection Street 2</td>\n",
       "        <td>text</td>\n",
       "        <td></td>\n",
       "    </tr>\n",
       "    <tr>\n",
       "        <td>Address Type</td>\n",
       "        <td>text</td>\n",
       "        <td></td>\n",
       "    </tr>\n",
       "    <tr>\n",
       "        <td>City</td>\n",
       "        <td>text</td>\n",
       "        <td></td>\n",
       "    </tr>\n",
       "    <tr>\n",
       "        <td>Landmark</td>\n",
       "        <td>text</td>\n",
       "        <td></td>\n",
       "    </tr>\n",
       "    <tr>\n",
       "        <td>Facility Type</td>\n",
       "        <td>text</td>\n",
       "        <td></td>\n",
       "    </tr>\n",
       "    <tr>\n",
       "        <td>Status</td>\n",
       "        <td>text</td>\n",
       "        <td></td>\n",
       "    </tr>\n",
       "    <tr>\n",
       "        <td>Due Date</td>\n",
       "        <td>text</td>\n",
       "        <td></td>\n",
       "    </tr>\n",
       "    <tr>\n",
       "        <td>Resolution Description</td>\n",
       "        <td>text</td>\n",
       "        <td></td>\n",
       "    </tr>\n",
       "    <tr>\n",
       "        <td>Resolution Action Updated Date</td>\n",
       "        <td>text</td>\n",
       "        <td></td>\n",
       "    </tr>\n",
       "    <tr>\n",
       "        <td>Community Board</td>\n",
       "        <td>text</td>\n",
       "        <td></td>\n",
       "    </tr>\n",
       "    <tr>\n",
       "        <td>BBL</td>\n",
       "        <td>double precision</td>\n",
       "        <td></td>\n",
       "    </tr>\n",
       "    <tr>\n",
       "        <td>Borough</td>\n",
       "        <td>text</td>\n",
       "        <td></td>\n",
       "    </tr>\n",
       "    <tr>\n",
       "        <td>X Coordinate (State Plane)</td>\n",
       "        <td>double precision</td>\n",
       "        <td></td>\n",
       "    </tr>\n",
       "    <tr>\n",
       "        <td>Y Coordinate (State Plane)</td>\n",
       "        <td>double precision</td>\n",
       "        <td></td>\n",
       "    </tr>\n",
       "    <tr>\n",
       "        <td>Open Data Channel Type</td>\n",
       "        <td>text</td>\n",
       "        <td></td>\n",
       "    </tr>\n",
       "    <tr>\n",
       "        <td>Park Facility Name</td>\n",
       "        <td>text</td>\n",
       "        <td></td>\n",
       "    </tr>\n",
       "    <tr>\n",
       "        <td>Park Borough</td>\n",
       "        <td>text</td>\n",
       "        <td></td>\n",
       "    </tr>\n",
       "    <tr>\n",
       "        <td>Vehicle Type</td>\n",
       "        <td>text</td>\n",
       "        <td></td>\n",
       "    </tr>\n",
       "    <tr>\n",
       "        <td>Taxi Company Borough</td>\n",
       "        <td>text</td>\n",
       "        <td></td>\n",
       "    </tr>\n",
       "    <tr>\n",
       "        <td>Taxi Pick Up Location</td>\n",
       "        <td>text</td>\n",
       "        <td></td>\n",
       "    </tr>\n",
       "    <tr>\n",
       "        <td>Bridge Highway Name</td>\n",
       "        <td>text</td>\n",
       "        <td></td>\n",
       "    </tr>\n",
       "    <tr>\n",
       "        <td>Bridge Highway Direction</td>\n",
       "        <td>text</td>\n",
       "        <td></td>\n",
       "    </tr>\n",
       "    <tr>\n",
       "        <td>Road Ramp</td>\n",
       "        <td>text</td>\n",
       "        <td></td>\n",
       "    </tr>\n",
       "    <tr>\n",
       "        <td>Bridge Highway Segment</td>\n",
       "        <td>text</td>\n",
       "        <td></td>\n",
       "    </tr>\n",
       "    <tr>\n",
       "        <td>Latitude</td>\n",
       "        <td>double precision</td>\n",
       "        <td></td>\n",
       "    </tr>\n",
       "    <tr>\n",
       "        <td>Longitude</td>\n",
       "        <td>double precision</td>\n",
       "        <td></td>\n",
       "    </tr>\n",
       "    <tr>\n",
       "        <td>Location</td>\n",
       "        <td>text</td>\n",
       "        <td></td>\n",
       "    </tr>\n",
       "</table>"
      ],
      "text/plain": [
       "[['Unique Key', 'bigint', ''],\n",
       " ['Created Date', 'text', ''],\n",
       " ['Closed Date', 'text', ''],\n",
       " ['Agency', 'text', ''],\n",
       " ['Agency Name', 'text', ''],\n",
       " ['Complaint Type', 'text', ''],\n",
       " ['Descriptor', 'text', ''],\n",
       " ['Location Type', 'text', ''],\n",
       " ['Incident Zip', 'double precision', ''],\n",
       " ['Incident Address', 'text', ''],\n",
       " ['Street Name', 'text', ''],\n",
       " ['Cross Street 1', 'text', ''],\n",
       " ['Cross Street 2', 'text', ''],\n",
       " ['Intersection Street 1', 'text', ''],\n",
       " ['Intersection Street 2', 'text', ''],\n",
       " ['Address Type', 'text', ''],\n",
       " ['City', 'text', ''],\n",
       " ['Landmark', 'text', ''],\n",
       " ['Facility Type', 'text', ''],\n",
       " ['Status', 'text', ''],\n",
       " ['Due Date', 'text', ''],\n",
       " ['Resolution Description', 'text', ''],\n",
       " ['Resolution Action Updated Date', 'text', ''],\n",
       " ['Community Board', 'text', ''],\n",
       " ['BBL', 'double precision', ''],\n",
       " ['Borough', 'text', ''],\n",
       " ['X Coordinate (State Plane)', 'double precision', ''],\n",
       " ['Y Coordinate (State Plane)', 'double precision', ''],\n",
       " ['Open Data Channel Type', 'text', ''],\n",
       " ['Park Facility Name', 'text', ''],\n",
       " ['Park Borough', 'text', ''],\n",
       " ['Vehicle Type', 'text', ''],\n",
       " ['Taxi Company Borough', 'text', ''],\n",
       " ['Taxi Pick Up Location', 'text', ''],\n",
       " ['Bridge Highway Name', 'text', ''],\n",
       " ['Bridge Highway Direction', 'text', ''],\n",
       " ['Road Ramp', 'text', ''],\n",
       " ['Bridge Highway Segment', 'text', ''],\n",
       " ['Latitude', 'double precision', ''],\n",
       " ['Longitude', 'double precision', ''],\n",
       " ['Location', 'text', '']]"
      ]
     },
     "execution_count": 7,
     "metadata": {},
     "output_type": "execute_result"
    }
   ],
   "source": [
    "%sql \\d requests"
   ]
  },
  {
   "cell_type": "markdown",
   "metadata": {},
   "source": [
    "## Exploration\n",
    "\n",
    "### Counts per unique value"
   ]
  },
  {
   "cell_type": "code",
   "execution_count": 8,
   "metadata": {},
   "outputs": [
    {
     "name": "stdout",
     "output_type": "stream",
     "text": [
      " * postgresql://postgres:***@db/cleaning\n",
      "16 rows affected.\n"
     ]
    },
    {
     "data": {
      "text/html": [
       "<table>\n",
       "    <tr>\n",
       "        <th>Agency Name</th>\n",
       "        <th>count</th>\n",
       "    </tr>\n",
       "    <tr>\n",
       "        <td>Department for the Aging</td>\n",
       "        <td>8</td>\n",
       "    </tr>\n",
       "    <tr>\n",
       "        <td>Department of Buildings</td>\n",
       "        <td>1233</td>\n",
       "    </tr>\n",
       "    <tr>\n",
       "        <td>Department of Consumer Affairs</td>\n",
       "        <td>298</td>\n",
       "    </tr>\n",
       "    <tr>\n",
       "        <td>Department of Information Technology and Telecommunications</td>\n",
       "        <td>1</td>\n",
       "    </tr>\n",
       "    <tr>\n",
       "        <td>Department of Environmental Protection</td>\n",
       "        <td>2262</td>\n",
       "    </tr>\n",
       "    <tr>\n",
       "        <td>Mayorâs Office of Special Enforcement</td>\n",
       "        <td>37</td>\n",
       "    </tr>\n",
       "    <tr>\n",
       "        <td>Department of Health and Mental Hygiene</td>\n",
       "        <td>1713</td>\n",
       "    </tr>\n",
       "    <tr>\n",
       "        <td>Department of Education</td>\n",
       "        <td>35</td>\n",
       "    </tr>\n",
       "    <tr>\n",
       "        <td>New York City Police Department</td>\n",
       "        <td>18254</td>\n",
       "    </tr>\n",
       "    <tr>\n",
       "        <td>Department of Homeless Services</td>\n",
       "        <td>501</td>\n",
       "    </tr>\n",
       "    <tr>\n",
       "        <td>Department of Sanitation</td>\n",
       "        <td>3975</td>\n",
       "    </tr>\n",
       "    <tr>\n",
       "        <td>Department of Transportation</td>\n",
       "        <td>3407</td>\n",
       "    </tr>\n",
       "    <tr>\n",
       "        <td>Department of Housing Preservation and Development</td>\n",
       "        <td>12671</td>\n",
       "    </tr>\n",
       "    <tr>\n",
       "        <td>Department of Parks and Recreation</td>\n",
       "        <td>794</td>\n",
       "    </tr>\n",
       "    <tr>\n",
       "        <td>Taxi and Limousine Commission</td>\n",
       "        <td>318</td>\n",
       "    </tr>\n",
       "    <tr>\n",
       "        <td>Economic Development Corporation</td>\n",
       "        <td>356</td>\n",
       "    </tr>\n",
       "</table>"
      ],
      "text/plain": [
       "[('Department for the Aging', 8),\n",
       " ('Department of Buildings', 1233),\n",
       " ('Department of Consumer Affairs', 298),\n",
       " ('Department of Information Technology and Telecommunications', 1),\n",
       " ('Department of Environmental Protection', 2262),\n",
       " ('Mayorâ\\x80\\x99s Office of Special Enforcement', 37),\n",
       " ('Department of Health and Mental Hygiene', 1713),\n",
       " ('Department of Education', 35),\n",
       " ('New York City Police Department', 18254),\n",
       " ('Department of Homeless Services', 501),\n",
       " ('Department of Sanitation', 3975),\n",
       " ('Department of Transportation', 3407),\n",
       " ('Department of Housing Preservation and Development', 12671),\n",
       " ('Department of Parks and Recreation', 794),\n",
       " ('Taxi and Limousine Commission', 318),\n",
       " ('Economic Development Corporation', 356)]"
      ]
     },
     "execution_count": 8,
     "metadata": {},
     "output_type": "execute_result"
    }
   ],
   "source": [
    "%sql SELECT \"Agency Name\", COUNT(\"Agency Name\") FROM requests GROUP BY \"Agency Name\";"
   ]
  },
  {
   "cell_type": "markdown",
   "metadata": {},
   "source": [
    "## Add constraints\n",
    "\n",
    "### Primary key"
   ]
  },
  {
   "cell_type": "code",
   "execution_count": 9,
   "metadata": {},
   "outputs": [
    {
     "name": "stdout",
     "output_type": "stream",
     "text": [
      " * postgresql://postgres:***@db/cleaning\n",
      "Done.\n"
     ]
    },
    {
     "data": {
      "text/plain": [
       "[]"
      ]
     },
     "execution_count": 9,
     "metadata": {},
     "output_type": "execute_result"
    }
   ],
   "source": [
    "%sql ALTER TABLE requests ADD PRIMARY KEY (\"Unique Key\");"
   ]
  },
  {
   "cell_type": "markdown",
   "metadata": {},
   "source": [
    "### Convert dates from strings to datetime"
   ]
  },
  {
   "cell_type": "code",
   "execution_count": 10,
   "metadata": {},
   "outputs": [
    {
     "name": "stdout",
     "output_type": "stream",
     "text": [
      " * postgresql://postgres:***@db/cleaning\n",
      "3 rows affected.\n"
     ]
    },
    {
     "data": {
      "text/html": [
       "<table>\n",
       "    <tr>\n",
       "        <th>Created Date</th>\n",
       "    </tr>\n",
       "    <tr>\n",
       "        <td>01/01/2022 12:00:00 AM</td>\n",
       "    </tr>\n",
       "    <tr>\n",
       "        <td>01/01/2022 12:00:10 AM</td>\n",
       "    </tr>\n",
       "    <tr>\n",
       "        <td>01/01/2022 12:00:57 AM</td>\n",
       "    </tr>\n",
       "</table>"
      ],
      "text/plain": [
       "[('01/01/2022 12:00:00 AM',),\n",
       " ('01/01/2022 12:00:10 AM',),\n",
       " ('01/01/2022 12:00:57 AM',)]"
      ]
     },
     "execution_count": 10,
     "metadata": {},
     "output_type": "execute_result"
    }
   ],
   "source": [
    "%sql SELECT \"Created Date\" FROM requests LIMIT 3;"
   ]
  },
  {
   "cell_type": "code",
   "execution_count": 11,
   "metadata": {},
   "outputs": [
    {
     "name": "stdout",
     "output_type": "stream",
     "text": [
      " * postgresql://postgres:***@db/cleaning\n",
      "Done.\n"
     ]
    },
    {
     "data": {
      "text/plain": [
       "[]"
      ]
     },
     "execution_count": 11,
     "metadata": {},
     "output_type": "execute_result"
    }
   ],
   "source": [
    "%%sql\n",
    "ALTER TABLE requests\n",
    "    ALTER COLUMN \"Created Date\" SET NOT NULL,\n",
    "    ALTER COLUMN \"Created Date\" TYPE TIMESTAMP USING to_timestamp(\"Created Date\", 'MM-DD-YYYY HH:MI:SS AM');"
   ]
  },
  {
   "cell_type": "code",
   "execution_count": 12,
   "metadata": {},
   "outputs": [
    {
     "name": "stdout",
     "output_type": "stream",
     "text": [
      " * postgresql://postgres:***@db/cleaning\n",
      "3 rows affected.\n"
     ]
    },
    {
     "data": {
      "text/html": [
       "<table>\n",
       "    <tr>\n",
       "        <th>Created Date</th>\n",
       "    </tr>\n",
       "    <tr>\n",
       "        <td>2022-01-01 00:00:00</td>\n",
       "    </tr>\n",
       "    <tr>\n",
       "        <td>2022-01-01 00:00:10</td>\n",
       "    </tr>\n",
       "    <tr>\n",
       "        <td>2022-01-01 00:00:57</td>\n",
       "    </tr>\n",
       "</table>"
      ],
      "text/plain": [
       "[(datetime.datetime(2022, 1, 1, 0, 0),),\n",
       " (datetime.datetime(2022, 1, 1, 0, 0, 10),),\n",
       " (datetime.datetime(2022, 1, 1, 0, 0, 57),)]"
      ]
     },
     "execution_count": 12,
     "metadata": {},
     "output_type": "execute_result"
    }
   ],
   "source": [
    "%sql SELECT \"Created Date\" FROM requests LIMIT 3;"
   ]
  },
  {
   "cell_type": "markdown",
   "metadata": {},
   "source": [
    "#### Your turn: Convert the `Closed Date` to a timestamp"
   ]
  },
  {
   "cell_type": "code",
   "execution_count": 15,
   "metadata": {},
   "outputs": [],
   "source": [
    "# YOUR CODE HERE"
   ]
  },
  {
   "cell_type": "markdown",
   "metadata": {},
   "source": [
    "### Ranges"
   ]
  },
  {
   "cell_type": "code",
   "execution_count": 17,
   "metadata": {},
   "outputs": [
    {
     "name": "stdout",
     "output_type": "stream",
     "text": [
      " * postgresql://postgres:***@db/cleaning\n"
     ]
    },
    {
     "ename": "IntegrityError",
     "evalue": "(psycopg2.errors.CheckViolation) check constraint \"requests_Latitude_check\" of relation \"requests\" is violated by some row\n\n[SQL: ALTER TABLE requests ADD CHECK (\"Latitude\" > 40 AND \"Latitude\" < 41);]\n(Background on this error at: https://sqlalche.me/e/14/gkpj)",
     "output_type": "error",
     "traceback": [
      "\u001b[0;31m---------------------------------------------------------------------------\u001b[0m",
      "\u001b[0;31mCheckViolation\u001b[0m                            Traceback (most recent call last)",
      "File \u001b[0;32m~/.local/share/virtualenvs/data-cleaning-LjgTz4ho/lib/python3.10/site-packages/sqlalchemy/engine/base.py:1808\u001b[0m, in \u001b[0;36mConnection._execute_context\u001b[0;34m(self, dialect, constructor, statement, parameters, execution_options, *args, **kw)\u001b[0m\n\u001b[1;32m   <a href='file:///home/vscode/.local/share/virtualenvs/data-cleaning-LjgTz4ho/lib/python3.10/site-packages/sqlalchemy/engine/base.py?line=1806'>1807</a>\u001b[0m     \u001b[39mif\u001b[39;00m \u001b[39mnot\u001b[39;00m evt_handled:\n\u001b[0;32m-> <a href='file:///home/vscode/.local/share/virtualenvs/data-cleaning-LjgTz4ho/lib/python3.10/site-packages/sqlalchemy/engine/base.py?line=1807'>1808</a>\u001b[0m         \u001b[39mself\u001b[39;49m\u001b[39m.\u001b[39;49mdialect\u001b[39m.\u001b[39;49mdo_execute(\n\u001b[1;32m   <a href='file:///home/vscode/.local/share/virtualenvs/data-cleaning-LjgTz4ho/lib/python3.10/site-packages/sqlalchemy/engine/base.py?line=1808'>1809</a>\u001b[0m             cursor, statement, parameters, context\n\u001b[1;32m   <a href='file:///home/vscode/.local/share/virtualenvs/data-cleaning-LjgTz4ho/lib/python3.10/site-packages/sqlalchemy/engine/base.py?line=1809'>1810</a>\u001b[0m         )\n\u001b[1;32m   <a href='file:///home/vscode/.local/share/virtualenvs/data-cleaning-LjgTz4ho/lib/python3.10/site-packages/sqlalchemy/engine/base.py?line=1811'>1812</a>\u001b[0m \u001b[39mif\u001b[39;00m \u001b[39mself\u001b[39m\u001b[39m.\u001b[39m_has_events \u001b[39mor\u001b[39;00m \u001b[39mself\u001b[39m\u001b[39m.\u001b[39mengine\u001b[39m.\u001b[39m_has_events:\n",
      "File \u001b[0;32m~/.local/share/virtualenvs/data-cleaning-LjgTz4ho/lib/python3.10/site-packages/sqlalchemy/engine/default.py:732\u001b[0m, in \u001b[0;36mDefaultDialect.do_execute\u001b[0;34m(self, cursor, statement, parameters, context)\u001b[0m\n\u001b[1;32m    <a href='file:///home/vscode/.local/share/virtualenvs/data-cleaning-LjgTz4ho/lib/python3.10/site-packages/sqlalchemy/engine/default.py?line=730'>731</a>\u001b[0m \u001b[39mdef\u001b[39;00m \u001b[39mdo_execute\u001b[39m(\u001b[39mself\u001b[39m, cursor, statement, parameters, context\u001b[39m=\u001b[39m\u001b[39mNone\u001b[39;00m):\n\u001b[0;32m--> <a href='file:///home/vscode/.local/share/virtualenvs/data-cleaning-LjgTz4ho/lib/python3.10/site-packages/sqlalchemy/engine/default.py?line=731'>732</a>\u001b[0m     cursor\u001b[39m.\u001b[39;49mexecute(statement, parameters)\n",
      "\u001b[0;31mCheckViolation\u001b[0m: check constraint \"requests_Latitude_check\" of relation \"requests\" is violated by some row\n",
      "\nThe above exception was the direct cause of the following exception:\n",
      "\u001b[0;31mIntegrityError\u001b[0m                            Traceback (most recent call last)",
      "\u001b[1;32m/workspaces/data-cleaning/sql.ipynb Cell 24'\u001b[0m in \u001b[0;36m<cell line: 1>\u001b[0;34m()\u001b[0m\n\u001b[0;32m----> <a href='vscode-notebook-cell://codespaces%2Bafeld-data-cleaning-4g764q25g65/workspaces/data-cleaning/sql.ipynb#ch0000027vscode-remote?line=0'>1</a>\u001b[0m get_ipython()\u001b[39m.\u001b[39;49mrun_line_magic(\u001b[39m'\u001b[39;49m\u001b[39msql\u001b[39;49m\u001b[39m'\u001b[39;49m, \u001b[39m'\u001b[39;49m\u001b[39mALTER TABLE requests ADD CHECK (\u001b[39;49m\u001b[39m\"\u001b[39;49m\u001b[39mLatitude\u001b[39;49m\u001b[39m\"\u001b[39;49m\u001b[39m > 40 AND \u001b[39;49m\u001b[39m\"\u001b[39;49m\u001b[39mLatitude\u001b[39;49m\u001b[39m\"\u001b[39;49m\u001b[39m < 41);\u001b[39;49m\u001b[39m'\u001b[39;49m)\n",
      "File \u001b[0;32m~/.local/share/virtualenvs/data-cleaning-LjgTz4ho/lib/python3.10/site-packages/IPython/core/interactiveshell.py:2285\u001b[0m, in \u001b[0;36mInteractiveShell.run_line_magic\u001b[0;34m(self, magic_name, line, _stack_depth)\u001b[0m\n\u001b[1;32m   <a href='file:///home/vscode/.local/share/virtualenvs/data-cleaning-LjgTz4ho/lib/python3.10/site-packages/IPython/core/interactiveshell.py?line=2282'>2283</a>\u001b[0m     kwargs[\u001b[39m'\u001b[39m\u001b[39mlocal_ns\u001b[39m\u001b[39m'\u001b[39m] \u001b[39m=\u001b[39m \u001b[39mself\u001b[39m\u001b[39m.\u001b[39mget_local_scope(stack_depth)\n\u001b[1;32m   <a href='file:///home/vscode/.local/share/virtualenvs/data-cleaning-LjgTz4ho/lib/python3.10/site-packages/IPython/core/interactiveshell.py?line=2283'>2284</a>\u001b[0m \u001b[39mwith\u001b[39;00m \u001b[39mself\u001b[39m\u001b[39m.\u001b[39mbuiltin_trap:\n\u001b[0;32m-> <a href='file:///home/vscode/.local/share/virtualenvs/data-cleaning-LjgTz4ho/lib/python3.10/site-packages/IPython/core/interactiveshell.py?line=2284'>2285</a>\u001b[0m     result \u001b[39m=\u001b[39m fn(\u001b[39m*\u001b[39;49margs, \u001b[39m*\u001b[39;49m\u001b[39m*\u001b[39;49mkwargs)\n\u001b[1;32m   <a href='file:///home/vscode/.local/share/virtualenvs/data-cleaning-LjgTz4ho/lib/python3.10/site-packages/IPython/core/interactiveshell.py?line=2285'>2286</a>\u001b[0m \u001b[39mreturn\u001b[39;00m result\n",
      "File \u001b[0;32m~/.local/share/virtualenvs/data-cleaning-LjgTz4ho/lib/python3.10/site-packages/sql/magic.py:217\u001b[0m, in \u001b[0;36mSqlMagic.execute\u001b[0;34m(self, line, cell, local_ns)\u001b[0m\n\u001b[1;32m    <a href='file:///home/vscode/.local/share/virtualenvs/data-cleaning-LjgTz4ho/lib/python3.10/site-packages/sql/magic.py?line=213'>214</a>\u001b[0m     \u001b[39mreturn\u001b[39;00m\n\u001b[1;32m    <a href='file:///home/vscode/.local/share/virtualenvs/data-cleaning-LjgTz4ho/lib/python3.10/site-packages/sql/magic.py?line=215'>216</a>\u001b[0m \u001b[39mtry\u001b[39;00m:\n\u001b[0;32m--> <a href='file:///home/vscode/.local/share/virtualenvs/data-cleaning-LjgTz4ho/lib/python3.10/site-packages/sql/magic.py?line=216'>217</a>\u001b[0m     result \u001b[39m=\u001b[39m sql\u001b[39m.\u001b[39;49mrun\u001b[39m.\u001b[39;49mrun(conn, parsed[\u001b[39m\"\u001b[39;49m\u001b[39msql\u001b[39;49m\u001b[39m\"\u001b[39;49m], \u001b[39mself\u001b[39;49m, user_ns)\n\u001b[1;32m    <a href='file:///home/vscode/.local/share/virtualenvs/data-cleaning-LjgTz4ho/lib/python3.10/site-packages/sql/magic.py?line=218'>219</a>\u001b[0m     \u001b[39mif\u001b[39;00m (\n\u001b[1;32m    <a href='file:///home/vscode/.local/share/virtualenvs/data-cleaning-LjgTz4ho/lib/python3.10/site-packages/sql/magic.py?line=219'>220</a>\u001b[0m         result \u001b[39mis\u001b[39;00m \u001b[39mnot\u001b[39;00m \u001b[39mNone\u001b[39;00m\n\u001b[1;32m    <a href='file:///home/vscode/.local/share/virtualenvs/data-cleaning-LjgTz4ho/lib/python3.10/site-packages/sql/magic.py?line=220'>221</a>\u001b[0m         \u001b[39mand\u001b[39;00m \u001b[39mnot\u001b[39;00m \u001b[39misinstance\u001b[39m(result, \u001b[39mstr\u001b[39m)\n\u001b[0;32m   (...)\u001b[0m\n\u001b[1;32m    <a href='file:///home/vscode/.local/share/virtualenvs/data-cleaning-LjgTz4ho/lib/python3.10/site-packages/sql/magic.py?line=223'>224</a>\u001b[0m         \u001b[39m# Instead of returning values, set variables directly in the\u001b[39;00m\n\u001b[1;32m    <a href='file:///home/vscode/.local/share/virtualenvs/data-cleaning-LjgTz4ho/lib/python3.10/site-packages/sql/magic.py?line=224'>225</a>\u001b[0m         \u001b[39m# users namespace. Variable names given by column names\u001b[39;00m\n\u001b[1;32m    <a href='file:///home/vscode/.local/share/virtualenvs/data-cleaning-LjgTz4ho/lib/python3.10/site-packages/sql/magic.py?line=226'>227</a>\u001b[0m         \u001b[39mif\u001b[39;00m \u001b[39mself\u001b[39m\u001b[39m.\u001b[39mautopandas:\n",
      "File \u001b[0;32m~/.local/share/virtualenvs/data-cleaning-LjgTz4ho/lib/python3.10/site-packages/sql/run.py:367\u001b[0m, in \u001b[0;36mrun\u001b[0;34m(conn, sql, config, user_namespace)\u001b[0m\n\u001b[1;32m    <a href='file:///home/vscode/.local/share/virtualenvs/data-cleaning-LjgTz4ho/lib/python3.10/site-packages/sql/run.py?line=364'>365</a>\u001b[0m \u001b[39melse\u001b[39;00m:\n\u001b[1;32m    <a href='file:///home/vscode/.local/share/virtualenvs/data-cleaning-LjgTz4ho/lib/python3.10/site-packages/sql/run.py?line=365'>366</a>\u001b[0m     txt \u001b[39m=\u001b[39m sqlalchemy\u001b[39m.\u001b[39msql\u001b[39m.\u001b[39mtext(statement)\n\u001b[0;32m--> <a href='file:///home/vscode/.local/share/virtualenvs/data-cleaning-LjgTz4ho/lib/python3.10/site-packages/sql/run.py?line=366'>367</a>\u001b[0m     result \u001b[39m=\u001b[39m conn\u001b[39m.\u001b[39;49msession\u001b[39m.\u001b[39;49mexecute(txt, user_namespace)\n\u001b[1;32m    <a href='file:///home/vscode/.local/share/virtualenvs/data-cleaning-LjgTz4ho/lib/python3.10/site-packages/sql/run.py?line=367'>368</a>\u001b[0m _commit(conn\u001b[39m=\u001b[39mconn, config\u001b[39m=\u001b[39mconfig)\n\u001b[1;32m    <a href='file:///home/vscode/.local/share/virtualenvs/data-cleaning-LjgTz4ho/lib/python3.10/site-packages/sql/run.py?line=368'>369</a>\u001b[0m \u001b[39mif\u001b[39;00m result \u001b[39mand\u001b[39;00m config\u001b[39m.\u001b[39mfeedback:\n",
      "File \u001b[0;32m~/.local/share/virtualenvs/data-cleaning-LjgTz4ho/lib/python3.10/site-packages/sqlalchemy/engine/base.py:1295\u001b[0m, in \u001b[0;36mConnection.execute\u001b[0;34m(self, statement, *multiparams, **params)\u001b[0m\n\u001b[1;32m   <a href='file:///home/vscode/.local/share/virtualenvs/data-cleaning-LjgTz4ho/lib/python3.10/site-packages/sqlalchemy/engine/base.py?line=1290'>1291</a>\u001b[0m     util\u001b[39m.\u001b[39mraise_(\n\u001b[1;32m   <a href='file:///home/vscode/.local/share/virtualenvs/data-cleaning-LjgTz4ho/lib/python3.10/site-packages/sqlalchemy/engine/base.py?line=1291'>1292</a>\u001b[0m         exc\u001b[39m.\u001b[39mObjectNotExecutableError(statement), replace_context\u001b[39m=\u001b[39merr\n\u001b[1;32m   <a href='file:///home/vscode/.local/share/virtualenvs/data-cleaning-LjgTz4ho/lib/python3.10/site-packages/sqlalchemy/engine/base.py?line=1292'>1293</a>\u001b[0m     )\n\u001b[1;32m   <a href='file:///home/vscode/.local/share/virtualenvs/data-cleaning-LjgTz4ho/lib/python3.10/site-packages/sqlalchemy/engine/base.py?line=1293'>1294</a>\u001b[0m \u001b[39melse\u001b[39;00m:\n\u001b[0;32m-> <a href='file:///home/vscode/.local/share/virtualenvs/data-cleaning-LjgTz4ho/lib/python3.10/site-packages/sqlalchemy/engine/base.py?line=1294'>1295</a>\u001b[0m     \u001b[39mreturn\u001b[39;00m meth(\u001b[39mself\u001b[39;49m, multiparams, params, _EMPTY_EXECUTION_OPTS)\n",
      "File \u001b[0;32m~/.local/share/virtualenvs/data-cleaning-LjgTz4ho/lib/python3.10/site-packages/sqlalchemy/sql/elements.py:325\u001b[0m, in \u001b[0;36mClauseElement._execute_on_connection\u001b[0;34m(self, connection, multiparams, params, execution_options, _force)\u001b[0m\n\u001b[1;32m    <a href='file:///home/vscode/.local/share/virtualenvs/data-cleaning-LjgTz4ho/lib/python3.10/site-packages/sqlalchemy/sql/elements.py?line=320'>321</a>\u001b[0m \u001b[39mdef\u001b[39;00m \u001b[39m_execute_on_connection\u001b[39m(\n\u001b[1;32m    <a href='file:///home/vscode/.local/share/virtualenvs/data-cleaning-LjgTz4ho/lib/python3.10/site-packages/sqlalchemy/sql/elements.py?line=321'>322</a>\u001b[0m     \u001b[39mself\u001b[39m, connection, multiparams, params, execution_options, _force\u001b[39m=\u001b[39m\u001b[39mFalse\u001b[39;00m\n\u001b[1;32m    <a href='file:///home/vscode/.local/share/virtualenvs/data-cleaning-LjgTz4ho/lib/python3.10/site-packages/sqlalchemy/sql/elements.py?line=322'>323</a>\u001b[0m ):\n\u001b[1;32m    <a href='file:///home/vscode/.local/share/virtualenvs/data-cleaning-LjgTz4ho/lib/python3.10/site-packages/sqlalchemy/sql/elements.py?line=323'>324</a>\u001b[0m     \u001b[39mif\u001b[39;00m _force \u001b[39mor\u001b[39;00m \u001b[39mself\u001b[39m\u001b[39m.\u001b[39msupports_execution:\n\u001b[0;32m--> <a href='file:///home/vscode/.local/share/virtualenvs/data-cleaning-LjgTz4ho/lib/python3.10/site-packages/sqlalchemy/sql/elements.py?line=324'>325</a>\u001b[0m         \u001b[39mreturn\u001b[39;00m connection\u001b[39m.\u001b[39;49m_execute_clauseelement(\n\u001b[1;32m    <a href='file:///home/vscode/.local/share/virtualenvs/data-cleaning-LjgTz4ho/lib/python3.10/site-packages/sqlalchemy/sql/elements.py?line=325'>326</a>\u001b[0m             \u001b[39mself\u001b[39;49m, multiparams, params, execution_options\n\u001b[1;32m    <a href='file:///home/vscode/.local/share/virtualenvs/data-cleaning-LjgTz4ho/lib/python3.10/site-packages/sqlalchemy/sql/elements.py?line=326'>327</a>\u001b[0m         )\n\u001b[1;32m    <a href='file:///home/vscode/.local/share/virtualenvs/data-cleaning-LjgTz4ho/lib/python3.10/site-packages/sqlalchemy/sql/elements.py?line=327'>328</a>\u001b[0m     \u001b[39melse\u001b[39;00m:\n\u001b[1;32m    <a href='file:///home/vscode/.local/share/virtualenvs/data-cleaning-LjgTz4ho/lib/python3.10/site-packages/sqlalchemy/sql/elements.py?line=328'>329</a>\u001b[0m         \u001b[39mraise\u001b[39;00m exc\u001b[39m.\u001b[39mObjectNotExecutableError(\u001b[39mself\u001b[39m)\n",
      "File \u001b[0;32m~/.local/share/virtualenvs/data-cleaning-LjgTz4ho/lib/python3.10/site-packages/sqlalchemy/engine/base.py:1487\u001b[0m, in \u001b[0;36mConnection._execute_clauseelement\u001b[0;34m(self, elem, multiparams, params, execution_options)\u001b[0m\n\u001b[1;32m   <a href='file:///home/vscode/.local/share/virtualenvs/data-cleaning-LjgTz4ho/lib/python3.10/site-packages/sqlalchemy/engine/base.py?line=1474'>1475</a>\u001b[0m compiled_cache \u001b[39m=\u001b[39m execution_options\u001b[39m.\u001b[39mget(\n\u001b[1;32m   <a href='file:///home/vscode/.local/share/virtualenvs/data-cleaning-LjgTz4ho/lib/python3.10/site-packages/sqlalchemy/engine/base.py?line=1475'>1476</a>\u001b[0m     \u001b[39m\"\u001b[39m\u001b[39mcompiled_cache\u001b[39m\u001b[39m\"\u001b[39m, \u001b[39mself\u001b[39m\u001b[39m.\u001b[39mengine\u001b[39m.\u001b[39m_compiled_cache\n\u001b[1;32m   <a href='file:///home/vscode/.local/share/virtualenvs/data-cleaning-LjgTz4ho/lib/python3.10/site-packages/sqlalchemy/engine/base.py?line=1476'>1477</a>\u001b[0m )\n\u001b[1;32m   <a href='file:///home/vscode/.local/share/virtualenvs/data-cleaning-LjgTz4ho/lib/python3.10/site-packages/sqlalchemy/engine/base.py?line=1478'>1479</a>\u001b[0m compiled_sql, extracted_params, cache_hit \u001b[39m=\u001b[39m elem\u001b[39m.\u001b[39m_compile_w_cache(\n\u001b[1;32m   <a href='file:///home/vscode/.local/share/virtualenvs/data-cleaning-LjgTz4ho/lib/python3.10/site-packages/sqlalchemy/engine/base.py?line=1479'>1480</a>\u001b[0m     dialect\u001b[39m=\u001b[39mdialect,\n\u001b[1;32m   <a href='file:///home/vscode/.local/share/virtualenvs/data-cleaning-LjgTz4ho/lib/python3.10/site-packages/sqlalchemy/engine/base.py?line=1480'>1481</a>\u001b[0m     compiled_cache\u001b[39m=\u001b[39mcompiled_cache,\n\u001b[0;32m   (...)\u001b[0m\n\u001b[1;32m   <a href='file:///home/vscode/.local/share/virtualenvs/data-cleaning-LjgTz4ho/lib/python3.10/site-packages/sqlalchemy/engine/base.py?line=1484'>1485</a>\u001b[0m     linting\u001b[39m=\u001b[39m\u001b[39mself\u001b[39m\u001b[39m.\u001b[39mdialect\u001b[39m.\u001b[39mcompiler_linting \u001b[39m|\u001b[39m compiler\u001b[39m.\u001b[39mWARN_LINTING,\n\u001b[1;32m   <a href='file:///home/vscode/.local/share/virtualenvs/data-cleaning-LjgTz4ho/lib/python3.10/site-packages/sqlalchemy/engine/base.py?line=1485'>1486</a>\u001b[0m )\n\u001b[0;32m-> <a href='file:///home/vscode/.local/share/virtualenvs/data-cleaning-LjgTz4ho/lib/python3.10/site-packages/sqlalchemy/engine/base.py?line=1486'>1487</a>\u001b[0m ret \u001b[39m=\u001b[39m \u001b[39mself\u001b[39;49m\u001b[39m.\u001b[39;49m_execute_context(\n\u001b[1;32m   <a href='file:///home/vscode/.local/share/virtualenvs/data-cleaning-LjgTz4ho/lib/python3.10/site-packages/sqlalchemy/engine/base.py?line=1487'>1488</a>\u001b[0m     dialect,\n\u001b[1;32m   <a href='file:///home/vscode/.local/share/virtualenvs/data-cleaning-LjgTz4ho/lib/python3.10/site-packages/sqlalchemy/engine/base.py?line=1488'>1489</a>\u001b[0m     dialect\u001b[39m.\u001b[39;49mexecution_ctx_cls\u001b[39m.\u001b[39;49m_init_compiled,\n\u001b[1;32m   <a href='file:///home/vscode/.local/share/virtualenvs/data-cleaning-LjgTz4ho/lib/python3.10/site-packages/sqlalchemy/engine/base.py?line=1489'>1490</a>\u001b[0m     compiled_sql,\n\u001b[1;32m   <a href='file:///home/vscode/.local/share/virtualenvs/data-cleaning-LjgTz4ho/lib/python3.10/site-packages/sqlalchemy/engine/base.py?line=1490'>1491</a>\u001b[0m     distilled_params,\n\u001b[1;32m   <a href='file:///home/vscode/.local/share/virtualenvs/data-cleaning-LjgTz4ho/lib/python3.10/site-packages/sqlalchemy/engine/base.py?line=1491'>1492</a>\u001b[0m     execution_options,\n\u001b[1;32m   <a href='file:///home/vscode/.local/share/virtualenvs/data-cleaning-LjgTz4ho/lib/python3.10/site-packages/sqlalchemy/engine/base.py?line=1492'>1493</a>\u001b[0m     compiled_sql,\n\u001b[1;32m   <a href='file:///home/vscode/.local/share/virtualenvs/data-cleaning-LjgTz4ho/lib/python3.10/site-packages/sqlalchemy/engine/base.py?line=1493'>1494</a>\u001b[0m     distilled_params,\n\u001b[1;32m   <a href='file:///home/vscode/.local/share/virtualenvs/data-cleaning-LjgTz4ho/lib/python3.10/site-packages/sqlalchemy/engine/base.py?line=1494'>1495</a>\u001b[0m     elem,\n\u001b[1;32m   <a href='file:///home/vscode/.local/share/virtualenvs/data-cleaning-LjgTz4ho/lib/python3.10/site-packages/sqlalchemy/engine/base.py?line=1495'>1496</a>\u001b[0m     extracted_params,\n\u001b[1;32m   <a href='file:///home/vscode/.local/share/virtualenvs/data-cleaning-LjgTz4ho/lib/python3.10/site-packages/sqlalchemy/engine/base.py?line=1496'>1497</a>\u001b[0m     cache_hit\u001b[39m=\u001b[39;49mcache_hit,\n\u001b[1;32m   <a href='file:///home/vscode/.local/share/virtualenvs/data-cleaning-LjgTz4ho/lib/python3.10/site-packages/sqlalchemy/engine/base.py?line=1497'>1498</a>\u001b[0m )\n\u001b[1;32m   <a href='file:///home/vscode/.local/share/virtualenvs/data-cleaning-LjgTz4ho/lib/python3.10/site-packages/sqlalchemy/engine/base.py?line=1498'>1499</a>\u001b[0m \u001b[39mif\u001b[39;00m has_events:\n\u001b[1;32m   <a href='file:///home/vscode/.local/share/virtualenvs/data-cleaning-LjgTz4ho/lib/python3.10/site-packages/sqlalchemy/engine/base.py?line=1499'>1500</a>\u001b[0m     \u001b[39mself\u001b[39m\u001b[39m.\u001b[39mdispatch\u001b[39m.\u001b[39mafter_execute(\n\u001b[1;32m   <a href='file:///home/vscode/.local/share/virtualenvs/data-cleaning-LjgTz4ho/lib/python3.10/site-packages/sqlalchemy/engine/base.py?line=1500'>1501</a>\u001b[0m         \u001b[39mself\u001b[39m,\n\u001b[1;32m   <a href='file:///home/vscode/.local/share/virtualenvs/data-cleaning-LjgTz4ho/lib/python3.10/site-packages/sqlalchemy/engine/base.py?line=1501'>1502</a>\u001b[0m         elem,\n\u001b[0;32m   (...)\u001b[0m\n\u001b[1;32m   <a href='file:///home/vscode/.local/share/virtualenvs/data-cleaning-LjgTz4ho/lib/python3.10/site-packages/sqlalchemy/engine/base.py?line=1505'>1506</a>\u001b[0m         ret,\n\u001b[1;32m   <a href='file:///home/vscode/.local/share/virtualenvs/data-cleaning-LjgTz4ho/lib/python3.10/site-packages/sqlalchemy/engine/base.py?line=1506'>1507</a>\u001b[0m     )\n",
      "File \u001b[0;32m~/.local/share/virtualenvs/data-cleaning-LjgTz4ho/lib/python3.10/site-packages/sqlalchemy/engine/base.py:1851\u001b[0m, in \u001b[0;36mConnection._execute_context\u001b[0;34m(self, dialect, constructor, statement, parameters, execution_options, *args, **kw)\u001b[0m\n\u001b[1;32m   <a href='file:///home/vscode/.local/share/virtualenvs/data-cleaning-LjgTz4ho/lib/python3.10/site-packages/sqlalchemy/engine/base.py?line=1847'>1848</a>\u001b[0m             branched\u001b[39m.\u001b[39mclose()\n\u001b[1;32m   <a href='file:///home/vscode/.local/share/virtualenvs/data-cleaning-LjgTz4ho/lib/python3.10/site-packages/sqlalchemy/engine/base.py?line=1849'>1850</a>\u001b[0m \u001b[39mexcept\u001b[39;00m \u001b[39mBaseException\u001b[39;00m \u001b[39mas\u001b[39;00m e:\n\u001b[0;32m-> <a href='file:///home/vscode/.local/share/virtualenvs/data-cleaning-LjgTz4ho/lib/python3.10/site-packages/sqlalchemy/engine/base.py?line=1850'>1851</a>\u001b[0m     \u001b[39mself\u001b[39;49m\u001b[39m.\u001b[39;49m_handle_dbapi_exception(\n\u001b[1;32m   <a href='file:///home/vscode/.local/share/virtualenvs/data-cleaning-LjgTz4ho/lib/python3.10/site-packages/sqlalchemy/engine/base.py?line=1851'>1852</a>\u001b[0m         e, statement, parameters, cursor, context\n\u001b[1;32m   <a href='file:///home/vscode/.local/share/virtualenvs/data-cleaning-LjgTz4ho/lib/python3.10/site-packages/sqlalchemy/engine/base.py?line=1852'>1853</a>\u001b[0m     )\n\u001b[1;32m   <a href='file:///home/vscode/.local/share/virtualenvs/data-cleaning-LjgTz4ho/lib/python3.10/site-packages/sqlalchemy/engine/base.py?line=1854'>1855</a>\u001b[0m \u001b[39mreturn\u001b[39;00m result\n",
      "File \u001b[0;32m~/.local/share/virtualenvs/data-cleaning-LjgTz4ho/lib/python3.10/site-packages/sqlalchemy/engine/base.py:2032\u001b[0m, in \u001b[0;36mConnection._handle_dbapi_exception\u001b[0;34m(self, e, statement, parameters, cursor, context)\u001b[0m\n\u001b[1;32m   <a href='file:///home/vscode/.local/share/virtualenvs/data-cleaning-LjgTz4ho/lib/python3.10/site-packages/sqlalchemy/engine/base.py?line=2029'>2030</a>\u001b[0m     util\u001b[39m.\u001b[39mraise_(newraise, with_traceback\u001b[39m=\u001b[39mexc_info[\u001b[39m2\u001b[39m], from_\u001b[39m=\u001b[39me)\n\u001b[1;32m   <a href='file:///home/vscode/.local/share/virtualenvs/data-cleaning-LjgTz4ho/lib/python3.10/site-packages/sqlalchemy/engine/base.py?line=2030'>2031</a>\u001b[0m \u001b[39melif\u001b[39;00m should_wrap:\n\u001b[0;32m-> <a href='file:///home/vscode/.local/share/virtualenvs/data-cleaning-LjgTz4ho/lib/python3.10/site-packages/sqlalchemy/engine/base.py?line=2031'>2032</a>\u001b[0m     util\u001b[39m.\u001b[39;49mraise_(\n\u001b[1;32m   <a href='file:///home/vscode/.local/share/virtualenvs/data-cleaning-LjgTz4ho/lib/python3.10/site-packages/sqlalchemy/engine/base.py?line=2032'>2033</a>\u001b[0m         sqlalchemy_exception, with_traceback\u001b[39m=\u001b[39;49mexc_info[\u001b[39m2\u001b[39;49m], from_\u001b[39m=\u001b[39;49me\n\u001b[1;32m   <a href='file:///home/vscode/.local/share/virtualenvs/data-cleaning-LjgTz4ho/lib/python3.10/site-packages/sqlalchemy/engine/base.py?line=2033'>2034</a>\u001b[0m     )\n\u001b[1;32m   <a href='file:///home/vscode/.local/share/virtualenvs/data-cleaning-LjgTz4ho/lib/python3.10/site-packages/sqlalchemy/engine/base.py?line=2034'>2035</a>\u001b[0m \u001b[39melse\u001b[39;00m:\n\u001b[1;32m   <a href='file:///home/vscode/.local/share/virtualenvs/data-cleaning-LjgTz4ho/lib/python3.10/site-packages/sqlalchemy/engine/base.py?line=2035'>2036</a>\u001b[0m     util\u001b[39m.\u001b[39mraise_(exc_info[\u001b[39m1\u001b[39m], with_traceback\u001b[39m=\u001b[39mexc_info[\u001b[39m2\u001b[39m])\n",
      "File \u001b[0;32m~/.local/share/virtualenvs/data-cleaning-LjgTz4ho/lib/python3.10/site-packages/sqlalchemy/util/compat.py:207\u001b[0m, in \u001b[0;36mraise_\u001b[0;34m(***failed resolving arguments***)\u001b[0m\n\u001b[1;32m    <a href='file:///home/vscode/.local/share/virtualenvs/data-cleaning-LjgTz4ho/lib/python3.10/site-packages/sqlalchemy/util/compat.py?line=203'>204</a>\u001b[0m     exception\u001b[39m.\u001b[39m__cause__ \u001b[39m=\u001b[39m replace_context\n\u001b[1;32m    <a href='file:///home/vscode/.local/share/virtualenvs/data-cleaning-LjgTz4ho/lib/python3.10/site-packages/sqlalchemy/util/compat.py?line=205'>206</a>\u001b[0m \u001b[39mtry\u001b[39;00m:\n\u001b[0;32m--> <a href='file:///home/vscode/.local/share/virtualenvs/data-cleaning-LjgTz4ho/lib/python3.10/site-packages/sqlalchemy/util/compat.py?line=206'>207</a>\u001b[0m     \u001b[39mraise\u001b[39;00m exception\n\u001b[1;32m    <a href='file:///home/vscode/.local/share/virtualenvs/data-cleaning-LjgTz4ho/lib/python3.10/site-packages/sqlalchemy/util/compat.py?line=207'>208</a>\u001b[0m \u001b[39mfinally\u001b[39;00m:\n\u001b[1;32m    <a href='file:///home/vscode/.local/share/virtualenvs/data-cleaning-LjgTz4ho/lib/python3.10/site-packages/sqlalchemy/util/compat.py?line=208'>209</a>\u001b[0m     \u001b[39m# credit to\u001b[39;00m\n\u001b[1;32m    <a href='file:///home/vscode/.local/share/virtualenvs/data-cleaning-LjgTz4ho/lib/python3.10/site-packages/sqlalchemy/util/compat.py?line=209'>210</a>\u001b[0m     \u001b[39m# https://cosmicpercolator.com/2016/01/13/exception-leaks-in-python-2-and-3/\u001b[39;00m\n\u001b[1;32m    <a href='file:///home/vscode/.local/share/virtualenvs/data-cleaning-LjgTz4ho/lib/python3.10/site-packages/sqlalchemy/util/compat.py?line=210'>211</a>\u001b[0m     \u001b[39m# as the __traceback__ object creates a cycle\u001b[39;00m\n\u001b[1;32m    <a href='file:///home/vscode/.local/share/virtualenvs/data-cleaning-LjgTz4ho/lib/python3.10/site-packages/sqlalchemy/util/compat.py?line=211'>212</a>\u001b[0m     \u001b[39mdel\u001b[39;00m exception, replace_context, from_, with_traceback\n",
      "File \u001b[0;32m~/.local/share/virtualenvs/data-cleaning-LjgTz4ho/lib/python3.10/site-packages/sqlalchemy/engine/base.py:1808\u001b[0m, in \u001b[0;36mConnection._execute_context\u001b[0;34m(self, dialect, constructor, statement, parameters, execution_options, *args, **kw)\u001b[0m\n\u001b[1;32m   <a href='file:///home/vscode/.local/share/virtualenvs/data-cleaning-LjgTz4ho/lib/python3.10/site-packages/sqlalchemy/engine/base.py?line=1805'>1806</a>\u001b[0m                 \u001b[39mbreak\u001b[39;00m\n\u001b[1;32m   <a href='file:///home/vscode/.local/share/virtualenvs/data-cleaning-LjgTz4ho/lib/python3.10/site-packages/sqlalchemy/engine/base.py?line=1806'>1807</a>\u001b[0m     \u001b[39mif\u001b[39;00m \u001b[39mnot\u001b[39;00m evt_handled:\n\u001b[0;32m-> <a href='file:///home/vscode/.local/share/virtualenvs/data-cleaning-LjgTz4ho/lib/python3.10/site-packages/sqlalchemy/engine/base.py?line=1807'>1808</a>\u001b[0m         \u001b[39mself\u001b[39;49m\u001b[39m.\u001b[39;49mdialect\u001b[39m.\u001b[39;49mdo_execute(\n\u001b[1;32m   <a href='file:///home/vscode/.local/share/virtualenvs/data-cleaning-LjgTz4ho/lib/python3.10/site-packages/sqlalchemy/engine/base.py?line=1808'>1809</a>\u001b[0m             cursor, statement, parameters, context\n\u001b[1;32m   <a href='file:///home/vscode/.local/share/virtualenvs/data-cleaning-LjgTz4ho/lib/python3.10/site-packages/sqlalchemy/engine/base.py?line=1809'>1810</a>\u001b[0m         )\n\u001b[1;32m   <a href='file:///home/vscode/.local/share/virtualenvs/data-cleaning-LjgTz4ho/lib/python3.10/site-packages/sqlalchemy/engine/base.py?line=1811'>1812</a>\u001b[0m \u001b[39mif\u001b[39;00m \u001b[39mself\u001b[39m\u001b[39m.\u001b[39m_has_events \u001b[39mor\u001b[39;00m \u001b[39mself\u001b[39m\u001b[39m.\u001b[39mengine\u001b[39m.\u001b[39m_has_events:\n\u001b[1;32m   <a href='file:///home/vscode/.local/share/virtualenvs/data-cleaning-LjgTz4ho/lib/python3.10/site-packages/sqlalchemy/engine/base.py?line=1812'>1813</a>\u001b[0m     \u001b[39mself\u001b[39m\u001b[39m.\u001b[39mdispatch\u001b[39m.\u001b[39mafter_cursor_execute(\n\u001b[1;32m   <a href='file:///home/vscode/.local/share/virtualenvs/data-cleaning-LjgTz4ho/lib/python3.10/site-packages/sqlalchemy/engine/base.py?line=1813'>1814</a>\u001b[0m         \u001b[39mself\u001b[39m,\n\u001b[1;32m   <a href='file:///home/vscode/.local/share/virtualenvs/data-cleaning-LjgTz4ho/lib/python3.10/site-packages/sqlalchemy/engine/base.py?line=1814'>1815</a>\u001b[0m         cursor,\n\u001b[0;32m   (...)\u001b[0m\n\u001b[1;32m   <a href='file:///home/vscode/.local/share/virtualenvs/data-cleaning-LjgTz4ho/lib/python3.10/site-packages/sqlalchemy/engine/base.py?line=1818'>1819</a>\u001b[0m         context\u001b[39m.\u001b[39mexecutemany,\n\u001b[1;32m   <a href='file:///home/vscode/.local/share/virtualenvs/data-cleaning-LjgTz4ho/lib/python3.10/site-packages/sqlalchemy/engine/base.py?line=1819'>1820</a>\u001b[0m     )\n",
      "File \u001b[0;32m~/.local/share/virtualenvs/data-cleaning-LjgTz4ho/lib/python3.10/site-packages/sqlalchemy/engine/default.py:732\u001b[0m, in \u001b[0;36mDefaultDialect.do_execute\u001b[0;34m(self, cursor, statement, parameters, context)\u001b[0m\n\u001b[1;32m    <a href='file:///home/vscode/.local/share/virtualenvs/data-cleaning-LjgTz4ho/lib/python3.10/site-packages/sqlalchemy/engine/default.py?line=730'>731</a>\u001b[0m \u001b[39mdef\u001b[39;00m \u001b[39mdo_execute\u001b[39m(\u001b[39mself\u001b[39m, cursor, statement, parameters, context\u001b[39m=\u001b[39m\u001b[39mNone\u001b[39;00m):\n\u001b[0;32m--> <a href='file:///home/vscode/.local/share/virtualenvs/data-cleaning-LjgTz4ho/lib/python3.10/site-packages/sqlalchemy/engine/default.py?line=731'>732</a>\u001b[0m     cursor\u001b[39m.\u001b[39;49mexecute(statement, parameters)\n",
      "\u001b[0;31mIntegrityError\u001b[0m: (psycopg2.errors.CheckViolation) check constraint \"requests_Latitude_check\" of relation \"requests\" is violated by some row\n\n[SQL: ALTER TABLE requests ADD CHECK (\"Latitude\" > 40 AND \"Latitude\" < 41);]\n(Background on this error at: https://sqlalche.me/e/14/gkpj)"
     ]
    }
   ],
   "source": [
    "%sql ALTER TABLE requests ADD CHECK (\"Latitude\" > 40 AND \"Latitude\" < 41);"
   ]
  },
  {
   "cell_type": "code",
   "execution_count": 18,
   "metadata": {},
   "outputs": [
    {
     "name": "stdout",
     "output_type": "stream",
     "text": [
      " * postgresql://postgres:***@db/cleaning\n",
      "1 rows affected.\n"
     ]
    },
    {
     "data": {
      "text/html": [
       "<table>\n",
       "    <tr>\n",
       "        <th>min</th>\n",
       "        <th>max</th>\n",
       "    </tr>\n",
       "    <tr>\n",
       "        <td>2.040074755e-06</td>\n",
       "        <td>40.91216806886205</td>\n",
       "    </tr>\n",
       "</table>"
      ],
      "text/plain": [
       "[(2.040074755e-06, 40.91216806886205)]"
      ]
     },
     "execution_count": 18,
     "metadata": {},
     "output_type": "execute_result"
    }
   ],
   "source": [
    "%sql SELECT MIN(\"Latitude\"), MAX(\"Latitude\") FROM requests;"
   ]
  }
 ],
 "metadata": {
  "interpreter": {
   "hash": "08fc278d3f31c0b0fd6bb49f0681c6887afcbf0d4bad045b2b6598ab5c36d0a3"
  },
  "kernelspec": {
   "display_name": "Python 3.10.0 ('data-cleaning-Wov1k-g_')",
   "language": "python",
   "name": "python3"
  },
  "language_info": {
   "codemirror_mode": {
    "name": "ipython",
    "version": 3
   },
   "file_extension": ".py",
   "mimetype": "text/x-python",
   "name": "python",
   "nbconvert_exporter": "python",
   "pygments_lexer": "ipython3",
   "version": "3.10.2"
  },
  "orig_nbformat": 4
 },
 "nbformat": 4,
 "nbformat_minor": 2
}
