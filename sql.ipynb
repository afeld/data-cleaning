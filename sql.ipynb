{
 "cells": [
  {
   "cell_type": "markdown",
   "metadata": {},
   "source": [
    "## SQL environment setup"
   ]
  },
  {
   "cell_type": "code",
   "execution_count": 1,
   "metadata": {},
   "outputs": [],
   "source": [
    "%load_ext sql"
   ]
  },
  {
   "cell_type": "code",
   "execution_count": 2,
   "metadata": {},
   "outputs": [],
   "source": [
    "%sql sqlite://"
   ]
  },
  {
   "cell_type": "markdown",
   "metadata": {},
   "source": [
    "### Load data\n",
    "\n",
    "We're taking data from the CSV and putting it in an in-memory [SQLite](https://sqlite.org/index.html) database via [pandas](https://pandas.pydata.org/)."
   ]
  },
  {
   "cell_type": "code",
   "execution_count": 3,
   "metadata": {},
   "outputs": [],
   "source": [
    "import pandas as pd\n",
    "\n",
    "requests = pd.read_csv(\"311_jan_2022.csv\")"
   ]
  },
  {
   "cell_type": "code",
   "execution_count": 4,
   "metadata": {},
   "outputs": [
    {
     "name": "stdout",
     "output_type": "stream",
     "text": [
      " * sqlite://\n"
     ]
    },
    {
     "data": {
      "text/plain": [
       "'Persisted requests'"
      ]
     },
     "execution_count": 4,
     "metadata": {},
     "output_type": "execute_result"
    }
   ],
   "source": [
    "%sql --persist requests"
   ]
  },
  {
   "cell_type": "markdown",
   "metadata": {},
   "source": [
    "Ensure the records were loaded:"
   ]
  },
  {
   "cell_type": "code",
   "execution_count": 5,
   "metadata": {},
   "outputs": [
    {
     "name": "stdout",
     "output_type": "stream",
     "text": [
      " * sqlite://\n",
      "Done.\n"
     ]
    },
    {
     "data": {
      "text/html": [
       "<table>\n",
       "    <tr>\n",
       "        <th>COUNT(*)</th>\n",
       "    </tr>\n",
       "    <tr>\n",
       "        <td>45863</td>\n",
       "    </tr>\n",
       "</table>"
      ],
      "text/plain": [
       "[(45863,)]"
      ]
     },
     "execution_count": 5,
     "metadata": {},
     "output_type": "execute_result"
    }
   ],
   "source": [
    "%sql SELECT COUNT(*) FROM requests LIMIT 10;"
   ]
  },
  {
   "cell_type": "markdown",
   "metadata": {},
   "source": [
    "[Display the schema](https://sqlite.org/cli.html#querying_the_database_schema):"
   ]
  },
  {
   "cell_type": "code",
   "execution_count": 6,
   "metadata": {},
   "outputs": [
    {
     "name": "stdout",
     "output_type": "stream",
     "text": [
      " * sqlite://\n",
      "Done.\n"
     ]
    },
    {
     "data": {
      "text/html": [
       "<table>\n",
       "    <tr>\n",
       "        <th>sql</th>\n",
       "    </tr>\n",
       "    <tr>\n",
       "        <td>CREATE TABLE requests (<br>\t&quot;index&quot; BIGINT, <br>\t&quot;Unique Key&quot; BIGINT, <br>\t&quot;Created Date&quot; TEXT, <br>\t&quot;Closed Date&quot; TEXT, <br>\t&quot;Agency&quot; TEXT, <br>\t&quot;Agency Name&quot; TEXT, <br>\t&quot;Complaint Type&quot; TEXT, <br>\t&quot;Descriptor&quot; TEXT, <br>\t&quot;Location Type&quot; TEXT, <br>\t&quot;Incident Zip&quot; FLOAT, <br>\t&quot;Incident Address&quot; TEXT, <br>\t&quot;Street Name&quot; TEXT, <br>\t&quot;Cross Street 1&quot; TEXT, <br>\t&quot;Cross Street 2&quot; TEXT, <br>\t&quot;Intersection Street 1&quot; TEXT, <br>\t&quot;Intersection Street 2&quot; TEXT, <br>\t&quot;Address Type&quot; TEXT, <br>\t&quot;City&quot; TEXT, <br>\t&quot;Landmark&quot; TEXT, <br>\t&quot;Facility Type&quot; TEXT, <br>\t&quot;Status&quot; TEXT, <br>\t&quot;Due Date&quot; TEXT, <br>\t&quot;Resolution Description&quot; TEXT, <br>\t&quot;Resolution Action Updated Date&quot; TEXT, <br>\t&quot;Community Board&quot; TEXT, <br>\t&quot;BBL&quot; FLOAT, <br>\t&quot;Borough&quot; TEXT, <br>\t&quot;X Coordinate (State Plane)&quot; FLOAT, <br>\t&quot;Y Coordinate (State Plane)&quot; FLOAT, <br>\t&quot;Open Data Channel Type&quot; TEXT, <br>\t&quot;Park Facility Name&quot; TEXT, <br>\t&quot;Park Borough&quot; TEXT, <br>\t&quot;Vehicle Type&quot; TEXT, <br>\t&quot;Taxi Company Borough&quot; TEXT, <br>\t&quot;Taxi Pick Up Location&quot; TEXT, <br>\t&quot;Bridge Highway Name&quot; TEXT, <br>\t&quot;Bridge Highway Direction&quot; TEXT, <br>\t&quot;Road Ramp&quot; TEXT, <br>\t&quot;Bridge Highway Segment&quot; TEXT, <br>\t&quot;Latitude&quot; FLOAT, <br>\t&quot;Longitude&quot; FLOAT, <br>\t&quot;Location&quot; TEXT<br>)</td>\n",
       "    </tr>\n",
       "    <tr>\n",
       "        <td>CREATE INDEX ix_requests_index ON requests (&quot;index&quot;)</td>\n",
       "    </tr>\n",
       "</table>"
      ],
      "text/plain": [
       "[('CREATE TABLE requests (\\n\\t\"index\" BIGINT, \\n\\t\"Unique Key\" BIGINT, \\n\\t\"Created Date\" TEXT, \\n\\t\"Closed Date\" TEXT, \\n\\t\"Agency\" TEXT, \\n\\t\"Agency N ... (867 characters truncated) ... Highway Direction\" TEXT, \\n\\t\"Road Ramp\" TEXT, \\n\\t\"Bridge Highway Segment\" TEXT, \\n\\t\"Latitude\" FLOAT, \\n\\t\"Longitude\" FLOAT, \\n\\t\"Location\" TEXT\\n)',),\n",
       " ('CREATE INDEX ix_requests_index ON requests (\"index\")',)]"
      ]
     },
     "execution_count": 6,
     "metadata": {},
     "output_type": "execute_result"
    }
   ],
   "source": [
    "%sql SELECT sql FROM sqlite_schema ORDER BY tbl_name, type DESC, name;"
   ]
  }
 ],
 "metadata": {
  "interpreter": {
   "hash": "08fc278d3f31c0b0fd6bb49f0681c6887afcbf0d4bad045b2b6598ab5c36d0a3"
  },
  "kernelspec": {
   "display_name": "Python 3.10.0 ('data-cleaning-Wov1k-g_')",
   "language": "python",
   "name": "python3"
  },
  "language_info": {
   "codemirror_mode": {
    "name": "ipython",
    "version": 3
   },
   "file_extension": ".py",
   "mimetype": "text/x-python",
   "name": "python",
   "nbconvert_exporter": "python",
   "pygments_lexer": "ipython3",
   "version": "3.10.0"
  },
  "orig_nbformat": 4
 },
 "nbformat": 4,
 "nbformat_minor": 2
}
